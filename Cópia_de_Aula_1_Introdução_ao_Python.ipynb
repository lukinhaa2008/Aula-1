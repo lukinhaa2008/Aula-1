{
  "nbformat": 4,
  "nbformat_minor": 0,
  "metadata": {
    "colab": {
      "provenance": []
    },
    "kernelspec": {
      "name": "python3",
      "display_name": "Python 3"
    },
    "language_info": {
      "name": "python"
    }
  },
  "cells": [
    {
      "cell_type": "markdown",
      "source": [
        "#Aula 1\n",
        "\n",
        "Seja bem vindo ou bem vinda ao nosso curso de python!\n",
        "\n",
        "Nessa aula abordaremos os conceitos de cálculos, variaveis e tipos de dados."
      ],
      "metadata": {
        "id": "Z-A3xiTYA7Ui"
      }
    },
    {
      "cell_type": "markdown",
      "source": [
        "## Cálculos\n",
        "\n",
        "Operadores Aritiméticos"
      ],
      "metadata": {
        "id": "e8efzCuQA_uT"
      }
    },
    {
      "cell_type": "markdown",
      "source": [
        "### 4 operações básicas"
      ],
      "metadata": {
        "id": "DmCtIQGAB6y2"
      }
    },
    {
      "cell_type": "markdown",
      "source": [
        "Soma"
      ],
      "metadata": {
        "id": "MyE974-7CIyU"
      }
    },
    {
      "cell_type": "code",
      "execution_count": null,
      "metadata": {
        "id": "PcGqYPeCA2Hg",
        "colab": {
          "base_uri": "https://localhost:8080/"
        },
        "outputId": "1c64f77d-7a35-4ce9-d393-96bae94b0c36"
      },
      "outputs": [
        {
          "output_type": "execute_result",
          "data": {
            "text/plain": [
              "5"
            ]
          },
          "metadata": {},
          "execution_count": 2
        }
      ],
      "source": [
        "2+3"
      ]
    },
    {
      "cell_type": "code",
      "source": [
        "45+56"
      ],
      "metadata": {
        "id": "q52THZwMCKxL",
        "colab": {
          "base_uri": "https://localhost:8080/"
        },
        "outputId": "4463601a-17ee-42dd-8edb-1830951645be"
      },
      "execution_count": null,
      "outputs": [
        {
          "output_type": "execute_result",
          "data": {
            "text/plain": [
              "101"
            ]
          },
          "metadata": {},
          "execution_count": 3
        }
      ]
    },
    {
      "cell_type": "markdown",
      "source": [
        "Subtração"
      ],
      "metadata": {
        "id": "wYtT3mLBCLGQ"
      }
    },
    {
      "cell_type": "code",
      "source": [
        "45-66"
      ],
      "metadata": {
        "id": "RdHHpHZDCQeB",
        "colab": {
          "base_uri": "https://localhost:8080/"
        },
        "outputId": "d006c773-3e92-447c-8d00-7bae3cfe0424"
      },
      "execution_count": null,
      "outputs": [
        {
          "output_type": "execute_result",
          "data": {
            "text/plain": [
              "-21"
            ]
          },
          "metadata": {},
          "execution_count": 4
        }
      ]
    },
    {
      "cell_type": "code",
      "source": [
        "346-68"
      ],
      "metadata": {
        "id": "7GhaIloLCQbh",
        "colab": {
          "base_uri": "https://localhost:8080/"
        },
        "outputId": "3662bcae-c70c-4503-a4b3-c7e595ae29d6"
      },
      "execution_count": null,
      "outputs": [
        {
          "output_type": "execute_result",
          "data": {
            "text/plain": [
              "278"
            ]
          },
          "metadata": {},
          "execution_count": 5
        }
      ]
    },
    {
      "cell_type": "markdown",
      "source": [
        "Multiplicação"
      ],
      "metadata": {
        "id": "pI-2vxmkCR05"
      }
    },
    {
      "cell_type": "code",
      "source": [
        "6*3"
      ],
      "metadata": {
        "id": "xNv0ho4tCTzv",
        "colab": {
          "base_uri": "https://localhost:8080/"
        },
        "outputId": "c141994c-9e5f-4716-b406-2e94d1eb3b5d"
      },
      "execution_count": null,
      "outputs": [
        {
          "output_type": "execute_result",
          "data": {
            "text/plain": [
              "18"
            ]
          },
          "metadata": {},
          "execution_count": 6
        }
      ]
    },
    {
      "cell_type": "code",
      "source": [
        "77*4"
      ],
      "metadata": {
        "id": "2R_9IPuQCTxC",
        "colab": {
          "base_uri": "https://localhost:8080/"
        },
        "outputId": "6922ea19-682b-40b5-833f-4d7c30f405c9"
      },
      "execution_count": null,
      "outputs": [
        {
          "output_type": "execute_result",
          "data": {
            "text/plain": [
              "308"
            ]
          },
          "metadata": {},
          "execution_count": 7
        }
      ]
    },
    {
      "cell_type": "markdown",
      "source": [
        "Divisão"
      ],
      "metadata": {
        "id": "WI4v83yfCUuU"
      }
    },
    {
      "cell_type": "code",
      "source": [
        "80/4"
      ],
      "metadata": {
        "id": "ryNnYaaOCWUn",
        "colab": {
          "base_uri": "https://localhost:8080/"
        },
        "outputId": "e32a74bd-d0ec-4ffc-a99f-6041ba5737a4"
      },
      "execution_count": null,
      "outputs": [
        {
          "output_type": "execute_result",
          "data": {
            "text/plain": [
              "20.0"
            ]
          },
          "metadata": {},
          "execution_count": 8
        }
      ]
    },
    {
      "cell_type": "code",
      "source": [
        "120/3"
      ],
      "metadata": {
        "id": "TB5vO-bsCWSW",
        "colab": {
          "base_uri": "https://localhost:8080/"
        },
        "outputId": "a9ab20aa-f34a-4d6c-e058-18e51a63332e"
      },
      "execution_count": null,
      "outputs": [
        {
          "output_type": "execute_result",
          "data": {
            "text/plain": [
              "40.0"
            ]
          },
          "metadata": {},
          "execution_count": 9
        }
      ]
    },
    {
      "cell_type": "markdown",
      "source": [
        "### Exponenciação e Radiciação"
      ],
      "metadata": {
        "id": "PoWY1s4tCbLF"
      }
    },
    {
      "cell_type": "markdown",
      "source": [
        "Potenciação"
      ],
      "metadata": {
        "id": "rVcl39rWCmp9"
      }
    },
    {
      "cell_type": "code",
      "source": [
        "7**8"
      ],
      "metadata": {
        "id": "R8wmj5RjCl_i",
        "colab": {
          "base_uri": "https://localhost:8080/"
        },
        "outputId": "e456af43-7bbe-4a9e-dc71-ec5c3aabe3f5"
      },
      "execution_count": null,
      "outputs": [
        {
          "output_type": "execute_result",
          "data": {
            "text/plain": [
              "5764801"
            ]
          },
          "metadata": {},
          "execution_count": 10
        }
      ]
    },
    {
      "cell_type": "code",
      "source": [
        "4**2"
      ],
      "metadata": {
        "id": "gwS2T7dyCpcS",
        "colab": {
          "base_uri": "https://localhost:8080/"
        },
        "outputId": "d943ade4-ca8e-4ad0-fb71-4a30e7f759c7"
      },
      "execution_count": null,
      "outputs": [
        {
          "output_type": "execute_result",
          "data": {
            "text/plain": [
              "16"
            ]
          },
          "metadata": {},
          "execution_count": 11
        }
      ]
    },
    {
      "cell_type": "markdown",
      "source": [
        "Radiciação"
      ],
      "metadata": {
        "id": "VEAdDxuGCqBv"
      }
    },
    {
      "cell_type": "code",
      "source": [
        "4**0.5"
      ],
      "metadata": {
        "id": "n5E-Ae3eCrmO",
        "colab": {
          "base_uri": "https://localhost:8080/"
        },
        "outputId": "74cfce79-e5fc-472d-90ce-821c5a32483a"
      },
      "execution_count": null,
      "outputs": [
        {
          "output_type": "execute_result",
          "data": {
            "text/plain": [
              "2.0"
            ]
          },
          "metadata": {},
          "execution_count": 12
        }
      ]
    },
    {
      "cell_type": "code",
      "source": [
        "4 ** (1/2)"
      ],
      "metadata": {
        "id": "AvEDGkgVCrje",
        "colab": {
          "base_uri": "https://localhost:8080/"
        },
        "outputId": "c1d5173f-4f92-438b-f514-5c8bd4e5cc31"
      },
      "execution_count": null,
      "outputs": [
        {
          "output_type": "execute_result",
          "data": {
            "text/plain": [
              "2.0"
            ]
          },
          "metadata": {},
          "execution_count": 13
        }
      ]
    },
    {
      "cell_type": "markdown",
      "source": [
        "### Resto da divisão e inteiro da divisão"
      ],
      "metadata": {
        "id": "z8HQHLysCshP"
      }
    },
    {
      "cell_type": "markdown",
      "source": [
        "Resto da divisão"
      ],
      "metadata": {
        "id": "9sowrh-XC5MR"
      }
    },
    {
      "cell_type": "code",
      "source": [
        "7%2"
      ],
      "metadata": {
        "id": "mRGalr0lC69v",
        "colab": {
          "base_uri": "https://localhost:8080/"
        },
        "outputId": "1bd154b4-98d0-4253-9b4f-5b6f88fdbe45"
      },
      "execution_count": null,
      "outputs": [
        {
          "output_type": "execute_result",
          "data": {
            "text/plain": [
              "1"
            ]
          },
          "metadata": {},
          "execution_count": 14
        }
      ]
    },
    {
      "cell_type": "code",
      "source": [
        "7%3"
      ],
      "metadata": {
        "id": "nlPLkbPPDFYU",
        "colab": {
          "base_uri": "https://localhost:8080/"
        },
        "outputId": "ac3a2315-2d43-4588-a4c1-ba424384947a"
      },
      "execution_count": null,
      "outputs": [
        {
          "output_type": "execute_result",
          "data": {
            "text/plain": [
              "1"
            ]
          },
          "metadata": {},
          "execution_count": 15
        }
      ]
    },
    {
      "cell_type": "markdown",
      "source": [
        "Inteiro da divisão"
      ],
      "metadata": {
        "id": "T1Uh1lVsDFyc"
      }
    },
    {
      "cell_type": "code",
      "source": [
        "7//2"
      ],
      "metadata": {
        "id": "pLaIv1MDDMm7",
        "colab": {
          "base_uri": "https://localhost:8080/"
        },
        "outputId": "cddac4c5-06a5-4d71-cd27-bf5db7632cf9"
      },
      "execution_count": null,
      "outputs": [
        {
          "output_type": "execute_result",
          "data": {
            "text/plain": [
              "3"
            ]
          },
          "metadata": {},
          "execution_count": 16
        }
      ]
    },
    {
      "cell_type": "code",
      "source": [
        "9//4"
      ],
      "metadata": {
        "id": "1r6mPxQTDOnJ",
        "colab": {
          "base_uri": "https://localhost:8080/"
        },
        "outputId": "0d53de1d-d475-422e-8dd5-f6300e51c522"
      },
      "execution_count": null,
      "outputs": [
        {
          "output_type": "execute_result",
          "data": {
            "text/plain": [
              "2"
            ]
          },
          "metadata": {},
          "execution_count": 17
        }
      ]
    },
    {
      "cell_type": "markdown",
      "source": [
        "###Cálculos através da biblioteca Math"
      ],
      "metadata": {
        "id": "Gsiefih4DyY_"
      }
    },
    {
      "cell_type": "markdown",
      "source": [
        "https://docs.python.org/pt-br/3/library/math.html"
      ],
      "metadata": {
        "id": "mkXqLRGEfLft"
      }
    },
    {
      "cell_type": "code",
      "source": [
        "import math as m"
      ],
      "metadata": {
        "id": "wiUMUwL1EDrJ"
      },
      "execution_count": null,
      "outputs": []
    },
    {
      "cell_type": "code",
      "source": [
        "m.isqrt (9)"
      ],
      "metadata": {
        "id": "IkKwpHChEDpB",
        "colab": {
          "base_uri": "https://localhost:8080/"
        },
        "outputId": "fa3d1af7-505b-42b7-cbe3-9d863e5c01bf"
      },
      "execution_count": null,
      "outputs": [
        {
          "output_type": "execute_result",
          "data": {
            "text/plain": [
              "3"
            ]
          },
          "metadata": {},
          "execution_count": 19
        }
      ]
    },
    {
      "cell_type": "markdown",
      "source": [
        "## Variaveis\n",
        "\n"
      ],
      "metadata": {
        "id": "7DS8atmqDqjn"
      }
    },
    {
      "cell_type": "markdown",
      "source": [
        "### Como declarar uma variável"
      ],
      "metadata": {
        "id": "IAQzNNfqEMuH"
      }
    },
    {
      "cell_type": "code",
      "source": [
        "idade_do_aluno = 18"
      ],
      "metadata": {
        "id": "FDiBUCDKEUhm"
      },
      "execution_count": null,
      "outputs": []
    },
    {
      "cell_type": "code",
      "source": [
        "idade_do_aluno"
      ],
      "metadata": {
        "id": "JjpfVIZVEUfT",
        "colab": {
          "base_uri": "https://localhost:8080/"
        },
        "outputId": "79b241e5-c981-4e5b-9ca7-b9071ece2734"
      },
      "execution_count": null,
      "outputs": [
        {
          "output_type": "execute_result",
          "data": {
            "text/plain": [
              "18"
            ]
          },
          "metadata": {},
          "execution_count": 21
        }
      ]
    },
    {
      "cell_type": "markdown",
      "source": [
        "### Tipos de variaveis"
      ],
      "metadata": {
        "id": "2SrbWPrEEVCf"
      }
    },
    {
      "cell_type": "markdown",
      "source": [
        "String"
      ],
      "metadata": {
        "id": "GQZMSPElEb1L"
      }
    },
    {
      "cell_type": "code",
      "source": [
        "nome = 'Lucas'"
      ],
      "metadata": {
        "id": "LwYebyANEbZC"
      },
      "execution_count": null,
      "outputs": []
    },
    {
      "cell_type": "code",
      "source": [
        "nome"
      ],
      "metadata": {
        "id": "mbYpZfy4EbWd",
        "colab": {
          "base_uri": "https://localhost:8080/",
          "height": 35
        },
        "outputId": "cbcca5bd-b151-49a3-a306-bf0730951576"
      },
      "execution_count": null,
      "outputs": [
        {
          "output_type": "execute_result",
          "data": {
            "text/plain": [
              "'Lucas'"
            ],
            "application/vnd.google.colaboratory.intrinsic+json": {
              "type": "string"
            }
          },
          "metadata": {},
          "execution_count": 23
        }
      ]
    },
    {
      "cell_type": "markdown",
      "source": [
        "Int"
      ],
      "metadata": {
        "id": "aGZYXYrtEeZm"
      }
    },
    {
      "cell_type": "code",
      "source": [
        "idade = 35"
      ],
      "metadata": {
        "id": "xJlXwH4gEf3X"
      },
      "execution_count": null,
      "outputs": []
    },
    {
      "cell_type": "code",
      "source": [
        "idade"
      ],
      "metadata": {
        "id": "5KRdmUVuEfri",
        "colab": {
          "base_uri": "https://localhost:8080/"
        },
        "outputId": "a9fc5ec3-c968-4d0b-f77c-51ef70057a0b"
      },
      "execution_count": null,
      "outputs": [
        {
          "output_type": "execute_result",
          "data": {
            "text/plain": [
              "35"
            ]
          },
          "metadata": {},
          "execution_count": 25
        }
      ]
    },
    {
      "cell_type": "markdown",
      "source": [
        "Float"
      ],
      "metadata": {
        "id": "ylGMf-UxEgTO"
      }
    },
    {
      "cell_type": "code",
      "source": [
        "altura = 1.75"
      ],
      "metadata": {
        "id": "il3nCif3Ehlb"
      },
      "execution_count": null,
      "outputs": []
    },
    {
      "cell_type": "code",
      "source": [
        "altura"
      ],
      "metadata": {
        "id": "VeGeP7SvEhjQ",
        "colab": {
          "base_uri": "https://localhost:8080/"
        },
        "outputId": "44cd7ddb-2ad0-4ed7-a702-846d911ed3bd"
      },
      "execution_count": null,
      "outputs": [
        {
          "output_type": "execute_result",
          "data": {
            "text/plain": [
              "1.75"
            ]
          },
          "metadata": {},
          "execution_count": 27
        }
      ]
    },
    {
      "cell_type": "markdown",
      "source": [
        "Bool"
      ],
      "metadata": {
        "id": "41YRO_x2EiKW"
      }
    },
    {
      "cell_type": "code",
      "source": [
        "aprovado = True"
      ],
      "metadata": {
        "id": "87fhOS6SEpvY"
      },
      "execution_count": null,
      "outputs": []
    },
    {
      "cell_type": "code",
      "source": [
        "type(aprovado)"
      ],
      "metadata": {
        "id": "htCLmPLDExQw",
        "colab": {
          "base_uri": "https://localhost:8080/"
        },
        "outputId": "93120d25-ff44-402c-ffb7-95dc9c7b7e9a"
      },
      "execution_count": null,
      "outputs": [
        {
          "output_type": "execute_result",
          "data": {
            "text/plain": [
              "bool"
            ]
          },
          "metadata": {},
          "execution_count": 29
        }
      ]
    },
    {
      "cell_type": "markdown",
      "source": [
        "Função Type()"
      ],
      "metadata": {
        "id": "D4Xt9RyhEx5-"
      }
    },
    {
      "cell_type": "code",
      "source": [
        "type(aprovado)"
      ],
      "metadata": {
        "id": "SvN8XBu0E0ug",
        "colab": {
          "base_uri": "https://localhost:8080/"
        },
        "outputId": "b5565177-1735-4b0a-da02-ae6e9ce221ad"
      },
      "execution_count": null,
      "outputs": [
        {
          "output_type": "execute_result",
          "data": {
            "text/plain": [
              "bool"
            ]
          },
          "metadata": {},
          "execution_count": 30
        }
      ]
    },
    {
      "cell_type": "code",
      "source": [
        "type(idade)"
      ],
      "metadata": {
        "id": "FR0SZeK7E0sQ",
        "colab": {
          "base_uri": "https://localhost:8080/"
        },
        "outputId": "12d474ad-09fa-4c15-95b9-93003dd64767"
      },
      "execution_count": null,
      "outputs": [
        {
          "output_type": "execute_result",
          "data": {
            "text/plain": [
              "int"
            ]
          },
          "metadata": {},
          "execution_count": 31
        }
      ]
    },
    {
      "cell_type": "code",
      "source": [
        "type(altura)"
      ],
      "metadata": {
        "colab": {
          "base_uri": "https://localhost:8080/"
        },
        "id": "LxQwTPlIeAbY",
        "outputId": "0523354e-875e-47e6-e4ea-f6243eb16e19"
      },
      "execution_count": null,
      "outputs": [
        {
          "output_type": "execute_result",
          "data": {
            "text/plain": [
              "float"
            ]
          },
          "metadata": {},
          "execution_count": 32
        }
      ]
    },
    {
      "cell_type": "markdown",
      "source": [
        "Definindo o valor das variáveis em uma mesma linha"
      ],
      "metadata": {
        "id": "Md5fzhWiFpA_"
      }
    },
    {
      "cell_type": "code",
      "source": [
        "x, y =20, 55"
      ],
      "metadata": {
        "id": "s3pP6dgbF3k_"
      },
      "execution_count": null,
      "outputs": []
    },
    {
      "cell_type": "code",
      "source": [
        "x"
      ],
      "metadata": {
        "id": "aqa55vrZF3io",
        "colab": {
          "base_uri": "https://localhost:8080/"
        },
        "outputId": "d019da00-c850-4356-99cc-15fb7f6a4f06"
      },
      "execution_count": null,
      "outputs": [
        {
          "output_type": "execute_result",
          "data": {
            "text/plain": [
              "20"
            ]
          },
          "metadata": {},
          "execution_count": 34
        }
      ]
    },
    {
      "cell_type": "code",
      "source": [
        "y"
      ],
      "metadata": {
        "colab": {
          "base_uri": "https://localhost:8080/"
        },
        "id": "OAIXK9KXe8xJ",
        "outputId": "4e17dd56-6b72-4a48-d467-591a089f12c4"
      },
      "execution_count": null,
      "outputs": [
        {
          "output_type": "execute_result",
          "data": {
            "text/plain": [
              "55"
            ]
          },
          "metadata": {},
          "execution_count": 35
        }
      ]
    },
    {
      "cell_type": "markdown",
      "source": [
        "###Função Print()"
      ],
      "metadata": {
        "id": "zsf1f7MtE5Jq"
      }
    },
    {
      "cell_type": "code",
      "source": [
        "print('Ola mundo', idade)"
      ],
      "metadata": {
        "id": "8T7v1IAFFpwr",
        "colab": {
          "base_uri": "https://localhost:8080/"
        },
        "outputId": "39a38219-a2f9-47ca-cfe9-539c742d26ff"
      },
      "execution_count": null,
      "outputs": [
        {
          "output_type": "stream",
          "name": "stdout",
          "text": [
            "Ola mundo 35\n"
          ]
        }
      ]
    },
    {
      "cell_type": "code",
      "source": [
        "print('Ola mundo')"
      ],
      "metadata": {
        "id": "HvBNYBgQFpti",
        "colab": {
          "base_uri": "https://localhost:8080/"
        },
        "outputId": "27e5c213-d475-4f56-a67a-3a3ac886d934"
      },
      "execution_count": null,
      "outputs": [
        {
          "output_type": "stream",
          "name": "stdout",
          "text": [
            "Ola mundo\n"
          ]
        }
      ]
    },
    {
      "cell_type": "markdown",
      "source": [
        "f' String"
      ],
      "metadata": {
        "id": "lmDtjLMcIDd5"
      }
    },
    {
      "cell_type": "code",
      "source": [
        "print(f'a minha idade é {idade} anos, e a minha alura é {altura}')"
      ],
      "metadata": {
        "id": "4Q_YMKAXFvJA",
        "colab": {
          "base_uri": "https://localhost:8080/"
        },
        "outputId": "adcfa239-0e5a-44e5-e1b8-75cc039dd5bc"
      },
      "execution_count": null,
      "outputs": [
        {
          "output_type": "stream",
          "name": "stdout",
          "text": [
            "a minha idade é 35 anos, e a minha alura é 1.75\n"
          ]
        }
      ]
    },
    {
      "cell_type": "code",
      "source": [
        "print('a minha idade é:',idade,'anos')"
      ],
      "metadata": {
        "id": "hMsOPRk0FvG4",
        "colab": {
          "base_uri": "https://localhost:8080/"
        },
        "outputId": "0c1f14c6-eae5-46cb-c4df-6489fe31d81a"
      },
      "execution_count": null,
      "outputs": [
        {
          "output_type": "stream",
          "name": "stdout",
          "text": [
            "a minha idade é: 35 anos\n"
          ]
        }
      ]
    },
    {
      "cell_type": "code",
      "source": [
        "print('a minha idade é: %d' %(idade))"
      ],
      "metadata": {
        "colab": {
          "base_uri": "https://localhost:8080/"
        },
        "id": "3nA0-2uwh3sy",
        "outputId": "d4d75f3c-f789-4d47-9db6-3b8faacefb41"
      },
      "execution_count": null,
      "outputs": [
        {
          "output_type": "stream",
          "name": "stdout",
          "text": [
            "a minha idade é: 35\n"
          ]
        }
      ]
    },
    {
      "cell_type": "markdown",
      "source": [
        "### Comentários e DocString"
      ],
      "metadata": {
        "id": "LHh3D5rmIIds"
      }
    },
    {
      "cell_type": "markdown",
      "source": [
        "Comentário"
      ],
      "metadata": {
        "id": "Vyr7AKNmKAF4"
      }
    },
    {
      "cell_type": "code",
      "source": [
        "# Comentario\n",
        "nome = 'Lucas'"
      ],
      "metadata": {
        "id": "QtP0AZARINo-"
      },
      "execution_count": null,
      "outputs": []
    },
    {
      "cell_type": "code",
      "source": [
        "nome"
      ],
      "metadata": {
        "colab": {
          "base_uri": "https://localhost:8080/",
          "height": 35
        },
        "id": "Mn7kYDI1jJIO",
        "outputId": "c3e4aae3-a770-479f-eb1f-bb10b648fd30"
      },
      "execution_count": null,
      "outputs": [
        {
          "output_type": "execute_result",
          "data": {
            "text/plain": [
              "'Lucas'"
            ],
            "application/vnd.google.colaboratory.intrinsic+json": {
              "type": "string"
            }
          },
          "metadata": {},
          "execution_count": 42
        }
      ]
    },
    {
      "cell_type": "markdown",
      "source": [
        "DocString"
      ],
      "metadata": {
        "id": "PP-h6N56KC6R"
      }
    },
    {
      "cell_type": "code",
      "source": [
        "teste = 2\n",
        "'''\n",
        "Forma de fazer\n",
        "comentarios\n",
        "mais longos.\n",
        "'''\n"
      ],
      "metadata": {
        "id": "VaBEyfxLINkv",
        "colab": {
          "base_uri": "https://localhost:8080/",
          "height": 35
        },
        "outputId": "d662d44c-2194-47bf-ae03-ea932bb61cd8"
      },
      "execution_count": null,
      "outputs": [
        {
          "output_type": "execute_result",
          "data": {
            "text/plain": [
              "'\\nForma de fazer \\ncomentarios\\nmais longos.\\n'"
            ],
            "application/vnd.google.colaboratory.intrinsic+json": {
              "type": "string"
            }
          },
          "metadata": {},
          "execution_count": 43
        }
      ]
    },
    {
      "cell_type": "code",
      "source": [],
      "metadata": {
        "id": "cMywZySRj0Be"
      },
      "execution_count": null,
      "outputs": []
    },
    {
      "cell_type": "markdown",
      "source": [
        "## Exercícios"
      ],
      "metadata": {
        "id": "D3cB1gIQG1Kc"
      }
    },
    {
      "cell_type": "markdown",
      "source": [
        "![image.png](data:image/png;base64,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)"
      ],
      "metadata": {
        "id": "dtMxGIoJFn6e"
      }
    },
    {
      "cell_type": "code",
      "source": [
        "a = 10\n",
        "b = 20\n",
        "c = 15\n",
        "\n",
        "media = (a + b + c)/3\n",
        "\n",
        "media\n",
        "print(media)"
      ],
      "metadata": {
        "colab": {
          "base_uri": "https://localhost:8080/"
        },
        "id": "k6GNKsSxqTez",
        "outputId": "1c162275-eb34-43be-ae2b-46b0f1c01dd1"
      },
      "execution_count": null,
      "outputs": [
        {
          "output_type": "stream",
          "name": "stdout",
          "text": [
            "15.0\n"
          ]
        }
      ]
    },
    {
      "cell_type": "markdown",
      "source": [
        "![image.png](data:image/png;base64,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)"
      ],
      "metadata": {
        "id": "QyIgfFNNF3G1"
      }
    },
    {
      "cell_type": "code",
      "source": [
        "avista = 100\n",
        "juros= avista * 15 / 100\n",
        "parcelamento = juros / 12\n",
        "print(f'O valor avista é {avista}')\n",
        "print(f'O valor do juros é {juros}')\n",
        "print(f' O parcelamento é {parcelamento}')"
      ],
      "metadata": {
        "id": "HDX-ho2IT-mQ",
        "colab": {
          "base_uri": "https://localhost:8080/"
        },
        "outputId": "486f6de7-01e4-44c6-f671-dee923bcded4"
      },
      "execution_count": null,
      "outputs": [
        {
          "output_type": "stream",
          "name": "stdout",
          "text": [
            "O valor avista é 100\n",
            "O valor do juros é 15.0\n",
            " O parcelamento é 1.25\n"
          ]
        }
      ]
    },
    {
      "cell_type": "code",
      "source": [],
      "metadata": {
        "id": "3VtzkNj0T-jx"
      },
      "execution_count": null,
      "outputs": []
    },
    {
      "cell_type": "markdown",
      "source": [
        "![image.png](data:image/png;base64,iVBORw0KGgoAAAANSUhEUgAAAogAAADtCAYAAAA874R6AAAAAXNSR0IArs4c6QAAAARnQU1BAACxjwv8YQUAAAAJcEhZcwAADsMAAA7DAcdvqGQAAEiiSURBVHhe7d0PcBPXvTf8b98yV53krRja2hPmounY+EkhShrXbuKaIWCGYJMEmyS47jSu21o1DQ40mPotOE6DcVILQ+MLNzGhgMvNg+OnF+Gb1PKTFjvhsdIyVnzBKk1QaEAwJXIHD2rDWFMyaMIz+57dPbJ3ZVmSHUwS8v3MCO/ZPXv27DlHq5/2j/icIoCIiIiISPp/5F8iIiIiIg0DRCIiIiIyYYBIRERERCYMEImIiIjIhAEiEREREZkwQCQiIiIiEwaIRERERGTCAJGIiIiITCYOEK+G4N1bg9LcTGRmZiJ7WTWcR4Jy4TU07IIj0wHXsExfA6FOh6izEz6Zvp4ip91wrilEtmizzMxsFK7ZBW9ILryOIu+40bLXg+BVOWPaheDZ2wLX2xGZvgFNZawOe9C2wwX/ZZmmayumT+KO+7APbdH3pMMlRiqNF4H/lRa0TccxPkXX/5j1WfEZODZPwXTGCVrZN8CxZoIAMQLf8+UoP/QFlL04gBODA+h8PB2e1YVoOMpBNqEhF6of3gTf1+rR2X8CJ/p2o+j9VpQ/sgv+63zQiwT70fbcYbzzgZwx7UYQOLQLbd6P7wPmEykcgOv5Nnj/JtM0rcaP+wi8O8rhPJuPp18Tx7Jty2GVSz4un8wPjwiGvG1o6XkHYTnnerv+x6zPiqkcm0NwOTLh6PwMfZ067vzYTix9UsUPEMMeHHg+gIonG1F2Rxqss9KQVVyP+vII2nu84lBC8fgONcAjgsMdGwqQdYsV1q/mo3ZrPexnW3H4bZnpOrEWNePUyWYUXbdPwyxUvXYOvT/OkmnS3FqF3nO9qLpVpmlajR/3YQTPiyPW0pUomSuOZWlWWOQSMrKiaPspnNpe9LEF0Nf/mPVZwWMzTU38APGmAjw9eAL1C+McSsORjxQgRk670LAqW79svaoBLn+c76shL3ZFLwnlFqJ6rw9h4xk40+Xv+cgrE+WcTlSrCAKdDShdMF/f7rJqtP3JuF0fnGK+s9sDp1a3sW8RIe8uVC+T9R23npGYP7sKa39cAJuco7nFBrvYfuT/yrTRZQ/qRP1jz8r6mkU917nlN/mp1X386fNE5UTg2ZiJ+Y0xwb/4RjU/sxruSzKdsF/0epi+cYZ9aK8tTf1yeyr9aqzD7XkofcqFgOHyrX52ph3e7ui+inJW69sN/6nN3JdJLrmkNFYvB+B6qhR5t0+wj9q3UvNl6fCf2lEjy9Xa8XkvQhOcYY72o8dYl2U1aDe0y/i+FmIuvX6kdkmh35O9d+YvKEVDZ8A8voTgESccckxOlMcoWZ+Y2kJrgzzUecT03lJtHedxdYFg7DdtHLkNlzbl2ZP9HrSvzxPvAUP/JWoLbXtiG0f0sqN5ajqi+6S3Vd5GUSFPHfLEtPH9kuxYM9m2SryPsfR9zmwe7T29DTq8cBvKcGhjNQzf3moUau9Tdcy3GW6hGGu70TYYXU9mmaB9Y8fxRxmz2jgpU8sW2x83ZuNLOl6vBuFpdsj3eiqfOyn0WbI+imlr9Xjn2a+2S/QMdJzjruBrFvlH+9KcJ9rOEx5TtGOW/r7xbMwT08bjl/FzRG8D93m5SJrMONX7uA2ejhqtDcb2I8l2kvSFtv+xZ+knPEMox35Zm5huQ6mo91jbpTKWZF0NfRQ/rPlox8OI1yneT4VoOy1nXA9KikaOtSqrMpYpz/quyDlTcKFLqbRnKMu2dClnLowoF986qGy6N0PJyKhUDl6Qef45qDSJect+dlA5qeU5oK2z6sUzMsMVZXDrMiXj3k3KwbcuKiPvv6f0/9sqZZ69UumSZVw8VCnKbFIG9aRy5sVVSoZYfkDmH3yhUpmXsUo58FeZQeRsyshQ5uWsUja91Kf0//GMMiLmXjnWpCwT+7zp0Enl4vsXlZMvyvUC+lopeatVWZSxXjmsFjjOFaXv52K7W6M1FT4UdRH7u/5VfYWp1n2ybXClb7NYLvJ/qKdVg1vnKRmPH9bKS94vej0qD12U6feUAw+LelUd0PKP/HVQaa0S5d3bqpw0bGNM8n5V3j+srFfHj6zDyF/7lWe/PU9s46DynixT3+95yopn5BgLdCmb1TF27zJlxbefVfoCouwLJ5WDjy8S+7tZ6Z9oOKcyVj88qbSKefNEuf1/FfVRy/2Zug+iHf8p84gxZFrnrwfE+2ieUvmiOqZGlPfE+0rbzgsnZQaz6P7c+XCT0qXWPdqO94y1Y2xfay4cVCoN251yu6TY77Hjb+TV9WJ8Rd87Yj//+Kyyyi72+9B7+mrClT9u1vJsfv090d8XlTPuzeL9Nm907I+TQp+Y2uLDK6Lck8qBR0SeLX1iekS5orbZh+8pB0UbjvbbX/u0tpj38z4xClUXlYOVIm2/W3nkuS6xT4PKe+qCZG2htbneFk3uM2K/o++zRUrrW3qWK6IOJ198RMl4RLwvxPSIbOdkx5pJt1XSfYyl73PG6LFIpu0r5L5Etyn2/94Vyqp/6xvtg/X3iHK39JvazrjeyUObtPXGxkz89o0dx1Mes4H477FVL42NvVjJx+sVpX+LevzarPRp7/UzStcW8V63i2P7+zJLjKR9lkIfvfcbtQ1EGTFtmVF5ULSiKva4qxvcauxLc55ou054TDG8bx4RbTj6vhHeE+vOs69Snv2juk/vKX1aG4g2kce7yY5TrS6ine+uaFW6/tivDAb1PU+8neR9oe3/aBtJ2rE4dnzp6SsjopzXxWdghihTfV9Gj98pjKWLL6vv1UR9dI2OhxcOK5t/2qT0RT9LroMkAaI+sDK0193KpsPmQThZJ18Qb+SHDyhn5GDTvLtPWWE4wJ/ZIzra8OGnGnGvEZ0vOlKdpx2Exw64Ov2As0h+yJoPNGeUA5UrlPVuQ90/7I95U+n7ucZtHMRnlH3izbroOeMH94jStVa8gY0BXSIfim2LIGmiD3/VuMDMbwwop1r3KbTBFXFwEoOx6ZieFL2ltIoDf3RwJu0XWY/R8uSH5Vh5woU+Zd+/HVAGzVXVpdCvJ5+LM37e71LWiO1E66ntd8k+Ux71zZmRscIc2Is3/gp1e36ZjpHKWNX3f+zgqFGDRtFu0TrHBojmftFd7NunPPvSoB6Ix9Dzr1G6jB9C2hhJXGbcAHEK7ZJqv5vGn2yDVaMBgU5bz/BlafxB/Ipy8uVnlWcPx/8gT6VPxreFDFgM79mRw5vEgTimTbUvctFy5LgzvfdTaAs55s3vRb0txt6vso6m/U5+rJlsWyXfx1ix7aSnV/za2IcjyuHHRZ4S0QdyjurMiyv0dtFScr2Yvte/oEbHTPz2je27KY/ZlyqVFT/tMrSVovQ/E9t+BimN15jjm+rKSaXr355VDo9+WTdL1mdJ+0ieLIit15lfi/YeLTdOvYTkAWLiY0q0j0zljhxWNon6xHuvR/NNdpxqdYl5TyXfTvK+GF8PIUGAqIlZrko+luKPHVMfTdPx8HpI8jM3OagdPIETg2+g85kl8FWXw3l8opPFyYTgPxaEZaEdWTPkLJXVijQ5qebxvRmA5aF82A15rLctgP2DAAJ/ByJ/8cODIuTMlws1aSjbfw5vVNtl2igLFfu7sbN4bCuYEf8uJNtsw80vwz70n7WgRNR3jBW33WVH5HTAfOo6rgh8zz6GhvBaNDvi1UtnyV+Cig964D2lp/1vuBAsvg/5WlWmWPdxUijHko8l5RH0eP16+h0PXEMluG+hWm7yfhnnFlHeN4D27U64jgfVOxPEvAJUbahATpyqJu/XIPxvBmG7N8c8fmYV4MFiwP1WQM4QvmzFTGM909PFv2mw3KynNTdbxJwgRuLeEJ/KWBV99eceYOkC5BjLnWFHwXdtCB7zxx0jaXctEe+qdjh/4YLvfBiRq2JeQRVqy3MS3Ptlw5xZclL1pTTMlZOTMul2Sb3fze8dP/qHbFhyl/meJ+viB1ECNwZP62n7wgpYPG3YvNeDwLA6QCywP1SL2iLTTRpSan2SisCfXIgsFe8xY5veKvpNjMDAkEwLc2er7RM1xbZAOtKS3fqVwrFmcm2V+j4mk2adKadUoq1niz9ftsA4d+bNogeGRkyXy9JuNuYQRyAx7m0x7WRu3wlM4b2cVb4f3S0lpnFhMY6ZWCmNVzuW/MACz57NaDsi+kS9pG6xo2RDLYq+qi4fL1mfJe2jv4v2+sCC/K+b6zXTOtkRH88UjimnB+H6oAD3fcswvmdkwb4Y8AT0B2AmO041WWlIN/ZP0u1Mvi+mKulYEmNncChJH03L8fD6SBIgiirOssI6y4ac8mY0/ziIthe64n7wadf81Wv02st8z5VRvi3Rzo4gLPo/8rx+v9Doa1kD/PAieAEI/10fiAnf8LHCfribo/dxqK9SqHcbJBQOY0gc8natMtRDvAobRQD130FxOEos2FmN8pfmoPk/apGT6K54EZgt/8FFuI6qgVkAvsNBlBTljwULU6l7PEnLEYO8qAIXD3lEW4uaHDtsCFST98t4NlQc6MW2HDFmHl2M7Pnq/UNOeGLuV4lK3q8hBLziQyUt9kNFfmhNg8RjNYTgOfFndtq4wC49LcGh9qsV6Di8DTlDbXAsycb87Dw4mj+pP+0xlX4XhgNi6VykfUmmo8RB09h7loWN+ENHGSyvb0Kxet9NbilqOhLfK5a4T1IRRuh98edIjXYP4Og+zXeIsF2M++BEX/2m2BapSOFYM7m2muo+TiMtABFfiIxR5HS5Goa/2zl6v5f6Kt0rl8WT0ngVx8cn/4COb1tw+Kli5N2h3gNbg/YJ70lP1mcp9JForDDyxRcONf/HL/wPdV89qMkz1DdzPhwdYvbZIS0umMp7Olby7Uy+L6YspbGUpI+m8Xg43eIHiFfFwLykn90wsmXlqyF83OAo5yfqmcboaydWfkUuiHE2dFFOxTMTVnH8z/l5t6Gs6GsA6+4QbfoV/QMitm4TC6K9shitkfvwwuFTOHfunHgNoLlALp6I1Yo5yEF9V2w9xOuP68SSiQU7HSjcAjQe3o+yOXLmhCzIWVqGi78Rgdl5L7rejp61U02x7uOkVo7lruUoe98FzztBeN1+Q6CavF/iujkLJXW70Tt4DqcGuvHkHA8cD9ShJ877OHm/pkEdfqHLIzIdFcLQWTl5jSUeq2mwZYo/l8X7RJ8xKhgUkWwClltLUP+rXpw4fQoDXU/CdkSMl/oe8WHwSTPFfr8lSxwyQ4jE/vZjaEh8BTJLy6/CTtcATom2eGPPEoS3lqJ0f2yuMYn7JBXiC4V6oC7fjYFx+3QCO++f6OzMFNsiFSkea1Jvq6nu4zS6II4pol6WRF+Wr5HgQQeKn4vgvl+9JtpKPdadw8D2BAfNVMfrjDTk/3gnOvvFMfTtN7D/3jCcq8QXbXkGKJ6J+yyFPhKNZcVZPZD8BLB+Wf00qMDugfH1PdFSNHqWbbLv6VgpbWcKfTEVqY2lJH00jcfD6RY/QBzuQnVuMdrkZc+ooHoKZ+nt5qd0o25WzzSOvcafCUqD/S4bgq/7EDAGAeLb89j3WZHnGzb4jvox8kVjeepRRS/TMk89Bd8Dn6luYfSIbxKOjjgNOexF35+AggdKkJUmj05XR8S3FH1yQl+xI3eOD/3+EUM9xOtfxLIvTnyUixx34kcbh1Dx4u4UgkOdHpgdhqutD77yB1EQjQ+nWvdYqZZjycHyb1/E4d+0ifwVeHBptCLJ+yVW5HgLile2wCujJ0uaCBYfrULBB67RU+pGyfvVBvu3bPC7vebxc8mL3x8BSmJO8X80qYxVwH5nEfBKH7zGN/5VP7yvRGC7y64fyEwi8O0oRvEv5dPiMyxIm1uCdY8WINI5OO5gkSo9uBZf6oyRakxdp2by/a65xY4Fc/zoOmreo/Cbv4cHJcjVfvInCPf6YlR3yq+boi1s31yLdd8DAm/64tQ9tT5JRZZd9Nsbor3/xbhP+li3TvjWnmJbTET01RU5mfxYM9m2muo+XjuxX+QCb4kxf1MWsiY4cXDthOA94hv9WaNov4yEE4ySVMbrkBs1K6vhil4BudmGnOp1IowJoP+teGUn77OkfSTqlTsniL5j5nqZ98UKm/hyYm5vcSy4RkFl5OroKAXm3o4i0SKDARG4Gupr/bxYdtPUxmlcybaTQl9YZ9uBf0RgapWR1L6Cj52kSGEspdJH03I8vD7iB4hzluA7Sy+i5acNcJ8NIXwphEB3A+r2WlDxg7FvCpOlXk8veLcBjzW5ERgOI3i8HXVrndolzSj7t0We/67Dj+pd8Is84eEAPDvKkVexC371A/CWlVj3Y4uoWx1cb6t1C8K3uwY1r6Rh+eI4QYJ28AXa9+yCV+xL8G03djlK4Uz2u4Qz7CjbUABv/Y9Q1+lH6JL4IDrrQUtlHsr3+fUP+FjqD2X/sA3WumasnqufhR19mT69Y2iBWQDtHR5ULM3H6PF7qnWPlXI5+tnMQEc7POVLkG/4IEnaLzEs83ORc3YXGtRH/mV+9542eG6qwJJ4Z1tS6Ff79+pRoo6faB3Oe9Hy6CZ48huxrjAazF4bqYxV633rUDu7HdWVIhA+r+6jH676DWi5XIHm78e779QigowcBHY3oGF0TLnRuscDyw+WYOI7VROz3JkrDqjtcKqXqkWZ8eo6VZPtd41471TUlcDf+Njoeyd4tAWOJzzIf2ad/J07G27LsaBni2ivo0HtPRI8vgutL0GMwfy4x5hU+iQV1sLVWGtpgyPab+pY66hD6T2b0ZPgSDyltojDcpNoAO9heE6L/lePC0mPNZNvq6nu47Xi/2UdWtT7w+Rnx2ONPuT8rAw5kw2kJ00P5PFSK3aJD+TQeT/cz5ej9BcJRkkq4/WW25A7owcNPzO05+5W8a7LwZK74vVA8j5L3kf6uFDr1dCttqW+/DHTvmQh517xxfmXTrSrx005Jqs75eIps2DmF8Uw7fUgIPpQ+/iaVYTVP7GgbXW5YZ/Ee3BVHjb3qhWe/DiNK9l2UuiLrJzlsL3thPN/qv0pxuCRFpSvd2nLJnTTTLEHPeg7GhLrqDucylhKoY+u1fFwWOxzrROeCW7fmxbyYZXxPryo9D+3RlmWk6GoTzHfee8apbXf9EzQlFx596Cy+eE79TIf3qwcfH2f6WlLzcV+pfXRZcqdIk9Gxp3Kqp/uU0ybNtVtnnJ3VZPS9W70hwHiPJ301y5l87fvVuaJ8ublVyqtfxxUDlaJdZ/plxn0p6JMT9xKF/tblTX36vXNyFmlrN/Tr1w0PnFloG9Xb69xr9gnqmLoj7hvVvrGdkM3xbpPvg2kK/3KZnuGsnlcRYSE/RLnybKY/MsebVL6JnjiT5OkXzXGMu13K6t+flA5Y3iKWNvvuE+vxYyxeE9Zx0hprP7zjHLw56uUu0Wb6fvYah6rcbZtHlPLlDVb+0Z/pifWuH5UxTyhrFLLrMyfN2FdP1K7pNDvyd478/JXKZsPnVHMvXlFOXNos7JK1lvNs159mnuCtlAl65Px7RX7dK5k6rfYsRbnCc6oRG0Rd0zFKevKSWVfhb4PlS+PzU98rJl8WyXex1ix7RS/DeI9HWpuc7ner/u0bUffp5V7jHWNX3Zs3015zH74ntIV3W9128/1K4Paz8U0Kf0J2ivpeI1tz2+vVw74jE+sx0qhz5L20RXl5J7oMVGMN3G86/t1TLvIMkbbWuxvl/qkbcKnmJMfU6749ymPaNutVLpGNxa7T5XazxmN1Xhy4zRuH2uSbCdpX8j1Rz9LxHHZbX5KeXw7XFQOP7FC/4z8Nzk3pbFk3NYEfSR81OPhlf4m0cfLlH3v6unr4XPqPzJWJCIi+gjUHx3Ow+H7B7C/NOVzRjQR9XKn6axrBJ6n5sMR3o0T//7x/a839NmQ9ClmIiIiut4i8O0uRnF9u/aTWPol6AY4O7Kw9ocFDA5p2jFAJCIi+sSxIMexA6ut/ah7OBvZuYvheHEEKzs6UPsNww3iRNOEl5iJiIiIyIRnEImIiIjIhAEiEREREZkwQCQiIiIiEwaIRERERGTCAJGIiIiITBggEhEREZEJA0QiIiIiMmGASEREREQmDBCJiIiIyIQBIhERERGZMEAkIiIiIhMGiERERERkwgCRiIiIiEwYIBIRERGRCQNEIiIiIjJhgEhEREREJgwQiYiIiMhkwgDR15yJzNsdcA/LGUbHncjMdMInkzcOH5yZmXAel0kiIiKiz6DEZxA/8GDT1h6EZZKIiIiIbnyJA8SbLEB3DVo8ETmDiIiIiG50iQPEu2vR6EhH++YWeC/LeXGEOh3jLzkPu+DIdMAlL1FreRzt8HY3oHTBfJF/PvJW74I3BIT/1IbqZdliXiayl1Wj7e2YgDTkxa41hcgWyzNzC1G914fwVbkselm42wPnKrUMWY+rIXifr0ZhrlhH3VZZA9zntRXGqOWuzsN8sf78BQ7s8g7JBQaXA3A9VYq829VyslG4Rq/zmHjbD8JVPh/zN/LsKxEREX36JHlIxYolGxpR8X4bGkRQ9pHPI3qccP45F80vD2DgtW1Y/tcWlD9SiPKtI/jOr17Dif5u1N/2DpzfdcIb3dhlEYA9Uo4uaxU6+k9g4MUKRJ4rhaMjIDPo2re0IvzwTnQcKEOWqKmncRHK3emof/mEVu6Tdi9qHmgYKzfiQ4sotxXfR0efKPc3q3Flxya0ycWaq37serAQDe/mY+erajkdqLJ2iTqLIDAmYDZvPx32pUUounMOLHI5ERER0aeGMoHBrRlKRuVB5aKYHnl1vTIvY5nS6teXKcealIyMJmVQJi8eqjSlNRcOKpUZlcrBC3pSy1OyTznzoZ5WqeVmZKxQDgTkDFXggLIiY9Hots7sWaZk3NOqnDSu516jZNjF9rR5g0pTRoayxj2iLdOM9ClNJSuUVp9Mq4IHlUdEvqZjelLbtn2z0vdPPa35Z5+yyZhH205Mng9PKq33ZCiLXjgpZ8TZPhEREdGnWJIziDrr/U+isSCAlmddCI5e2p2CL1sxc4acFqzp6eLfNFhu1tOamy1iThAjH6iJEHxvBmB5KB9243q3LYD9gwACf5czBNtsq5wSrAWo7+rG2m/ItEqsbzybF3jLDeTnwm7athWGUuD/cw+wdAFyjHlm2FHwXRuCx/yidmNM2yciIiL6FEspQFSDuLInG5HjaUBDt+kGvGk2gnAQiDxfqt2fOPpa1gA/vAhekNniGfairTZ676B4LaiDRy4aNXeO2LOJhBA8J/7MTjMFjar0tLlyioiIiOjGk2KAKMytQOPPbPA81YSeRIHZNTUTVhuQ8/NunBg8EfMawLo7ZLZYES8a7nWgP6senQPncO6c+upElVw86kIowUMkabBlij+Xw+PuvQwGvXKKiIiI6MaTeoAo2B3NWDvbjZon2uUcnfUrIooTYVTYGEmFw6ZLsFOTBvs3bPAd9WPki1ZYZ0Vf6sViKyyGy84mb/eh/YN8LH8oB7bo5WER6BmDwayvlwBH+s0Pm8Tksd9ZBLzSZ36C+6of3lcisN1lT3D2kYiIiOjTa1IBIiw5WPd0FdI/MJ9Ts9yZiyK0w9nsQfBSGMHj7ahb64RfLv8o7N+uRcF/1+FH9S74h0UANxyAZ0c58ip2wR97ai9q7u2iPh607RHrnA8hcFTU5zvVcMnFKuvS74tgtx3VNbvgOy+C2bMetFTG5LlvHWrVPJUt8Io84WE/XPUb0HK5As3ft8tc8UTg31+Dmg7/R3/ym4iIiOg6m1yAKFjya9FYHvPjLbNK8HRHLeb0VGNxbjaKtwaQU1ePArn4I7mlBPv7OrAy3IbyBdnIXlCK1qHl2P8fa2Gf6DdkRH22/Vc95h51onhJHkp3iPps342qmwB/IKjnEcFu7f/qwDocQPmSbCyqOIAvbNhmvgw9w461v+1F49fUn8hRt12OtvBKdBxuRL7xwZVxLsJ/pAc9fx5igEhERESfOp9TH2WW00REREREkz+DSEREREQ3NgaIRERERGTCAJGIiIiITBggEhEREZEJA0QiIiIiMmGASEREREQmDBCJiIiIyIQBIhERERGZMEAkIiIiIhMGiERERERkwgCRiIiIiEwYIBIRERGRCQNEIiIiIjJhgEhEREREJgwQiYiIiMiEASIRERERmTBAJCIiIiITBohEREREZMIAkYiIiIhMGCASERERkQkDRCIiIiIymTBA9DVnIjPT8MotRHWzG/6wzPCpEYH/lRa0HQnK9DQadsGR6YBrWKaJiIiIPoUSn0HMb0T34AmcEK83XlyH29/ZjOIl1XAPyeWfChEMedvQ0vMOPnWxLREREdHHIHGAaLEgfZYVVvGy3VGCtfu70ZzjQc1mF0IyyyefFUXbT+HU9iIxRURERETJTO4exBk2lG1YB5tnF1zvyHmqywG4nipF3u2ZyLw9D6VPuRG8KpfBB2dmJhz/6YP3ecdYnmYPQqN5VBEEOhtQumC+dkk7e1k1dnmNYWgILocop8MLt2Fbjue9opwwfHurUZirXg7PRuGaNvgvy9XkepnNPj2pXQbOhPOIXudsefm8piMgamBwNSTqGy1zPvLKGuA+L5dJkdMuNKzK1uu7qgGueNffjW2j1W0XTLt13CnmO+H2OFGqbkurZxCu8vmYv7GHZz2JiIjoupv8Qyq35qBIBDCD78oo56oIZmqK0fBuPna+egInXt0G+5s1KGz0mAIu7y+qccCyDp1/HEDv1uUI73Vg8+/Hwh//7mIUbvEjf3svTgwOoOPRmegqL4fzuClsg2erEyfvbsb/luUM7ShH+X0i3+Xv4AWx/YGuetz2jgi2nvWaA74Y7RvrEBDlvDb4Bjqr5qDnqR+h7W25UKzpaVyEcnc66l8W+9TfjSftXtQ80ABvtNBhN6ofroP360+jt/8EXttih6/ZCY9crLnqx64HC8fapr8DVdYulD/ihG80gFW1Y/PzYazc3oGOh7NEOh32pUUounMOLHoGIiIioutHmcDg1gwlo/KgclGmxwwqTRkZSuUhfcnI4U3KvIw1Stf7WlL3VquyKKNSOXhBTej5Fz13UlukG1EOPy7K3zqoJ9/vUtZkzFM2913R09LJ5xYpGfe0KvqaF5WDlRnKil+f0VI6WU7JAcU498yLK8atN7qtCweVSlGfNe4RPa05qbTeM7ZPykif0lSyQmn16UlN8KDyiFiv6ZiePPmCqNvDYrsf6mnNu/uUFaP7LYpxr1Ey7JuVvn/qac2H+rYWvSDb41iTkhHbfkREREQfo8mfQYwR+JMLkaX3IX+WnKG61Y4CeBAwPMwyd3a6nFJZkTZbTqr+chI9KMKCHPP5MvvSMtiGBuE3PBWcZp0pp1SynC9bYJw78+Y0YGgk4RlE22zjHYnpSFNP3EVZC1Df1Y2135Bp1QwYzuaF4D8WhGWhHVli/iirqI+cVPn/3AMsXYCcm+UM1QzRNt+1IXjMb7iP04Y5xvYjIiIi+hhNPkC8KsOuz6v/hBF6X/w5UoM89V6+6Gu+A+1idiCY2qMsob8FxL8iSIt9iuRLaZgrJ6+7YS/aaqP3DorXgjrz5WMh32aTU/GEEDwn/sxOG/dwTHrax7ZXRERERElNPkA85UMPbMj9mnquzIq0L4k/5bsxIH8Ox/jaeb/xfNrE0v5VPX0XQTj2lN+FILxy8rqKeNFwrwP9WfXoHDiHc+fUVyeq5OKos6GLciqeNNgyxZ/L4XFnMoPBj2WviIiIiFIyuQBRfSDluVYEC9ai7DZ9Vpa9CHhjEIF/0X8OJ/pSWVN9wmLe7SiCC32jT4Do/EfdiMzJhf0WOeN6ebsP7R/kY/lDObBFLw+LQG/skZo02O+yIfi6DwHjk9jhsOGyMWC/U7TNK33wGh9IueqH95UIbHfZTZejiYiIiD4pEgeIkQguXhKB0aUQAkddcDqKUecrwM6ny0aDG2vhaqy1tMFR2QLveTVvEL6OOpTesxk9qV1hBmaVYN3PbGhfV46Wo0Fte/7OOmzYMYIKZxXsMtt1M1cNWD1o2+OC/7y67+2o+061CGHH2B+qRcG7DXisyY3AcBjB4yLPWif8crnKet861M5uR3W0bYb9cNVvQMvlCjR/P9FeReDfX4OaDn/C+yiJiIiIpkPiANHbgOLcbGTn5qF4YzuCtz2N7r7dKJkjl6ssOaj9bS8av6b+DIyatxDVHivWvbwNRZM4RWav7kbvFju8Gwu17ZXvGcHKjtfQuPBj+KEXEbBu+696zD3qRPGSPJTuCCBn+25U3QT4A/K/7LulBLtfbkb+W5tRuCAbxVtFnrp6FOhLdTPsWGtsmwXlaAuvRMfhRuQbH1wZ5yL8R3rQ8+chBohERER03X1OfZRZThMRERERTeEhFSIiIiK6oTFAJCIiIiITBohEREREZMIAkYiIiIhMGCASERERkQkDRCIiIiIyYYBIRERERCYMEImIiIjIhAEiEREREZkwQCQiIiIiEwaIRERERGTCAJGIiIiITBggEhEREZEJA0QiIiIiMmGASEREREQmDBCJiIiIyIQBIhERERGZMEAkIiIiIhMGiERERERkwgCRblxX5V/V5TAixjQRERFNaMIA0decicxM8yt7WTWc3QFEZJ7r5rhTbN8B17BMX0vDLjimo+zpKvea8MEp+tPRGZLpeCLwv9KCtiNBmU5FbLkhePa2wPX29R4xYfRszEbmrfNRusOL4CU/2r5fDtd5uZiIiIgSSnwGMb8R3YMncEJ99fdi9w9nwrO+GNWdkwkapoMeiDiPyyR9ZKFOBzIdLhHSRUUw5G1DS887ItyaqhEEDu1Cm/c6j5fhwzj47jr0nj6FHbYDKM4tRdfCRpTNlcuJiIgoocQBosWC9FlWWNXXLVnIL2/Gjg3p8Dznhl9moRuVFUXbT+HU9iIxNVVZqHrtHHp/nCXT18ktZdjfVYWsGYCtdDdOnDuF7g05sMjFRERElNik70FMnz0XGBrE2dFTTREEOhtQumA+MjPnI6+sAe6YS3nBI044tOWZmL+gFA2dY5eptTNXmU74ZFqT4PKsnr8UbWK6rUy99G1YN+TFrjWFyBbbybw9D6VPuRGMue8sctqFhlXZWl2yVzXA5Y9zfmxcOS4ELstlE0ilXC1PWR7mq+XmFqJ6rw/hCe+LC8HlyISjwwv3U6XIu12vi+N5L0JXw/DtrUZhrrr/2Shc0wb/aP3iXz7WbhloNrWypOfP2+gBPHXIG11X3/7YOvKsbbdom9XRfTD35Xhx6iLatq22NEHbGseTfltD259i2vJqCN69NSjV9l8fc67TxlqkUEacPLu8hnpGvHCK8gv3BuQMIiKiz45JB4gjl8WH6E12zEnT08HOahRv8SN/ey9ODPZim92Lmgca4JEf+pGjDShc7YHtGXX5ALqfsMO7sRibfje1C5dpxTtFOftRIaYr9qmXv2uRoy647EHDknJ0za7XLosPdD0J+5s1KGzyjgUww25UP1wH79efRm//Cby2xS4CJydEaDTmUg9q1HKsVegQeU68uhP57zaguMY1LtgclUq5Z9tRvrwBwQf24w+ifm/sWYnIc6VwHEx8+dWz1YmTdzfjf/9xAL1bl2NoRznK7yuH8/J38MKr6n7W47Z3nCh91rCfk5KDWlGf7ob80VsKdhbLzo2jbcsBWB7txMDgG+j4HuASfen0pLjlyyJgfKQcrs+XxbSte/TSduB/lqNwSxAr9/xB9O0b2P9wBC2rHGgf/dIRge9Z0QaHvoCyFwe0Mbcz34+Gh6vhll8okpcB+HcXizzRcTuAjkdnoqtctOtxuS+WLOTeX4KCW2fqaSIios8SZQKDWzOUjMqDykWZVo28dUCptGcoy144KWccVjaJ9Br3iJ5WfXhSab0nQ6k8pK85vpwrysmXn1WePfyelrp4qFLJyGhSBrWUdOGgUplRqRy8INPHmkQeQ1rkbsrIUJqOyaQw0tekrChpVQY/lDOE937ziKnsky8sUjIePqCcMeRR3t2nrDCUffK5OHne71LWiO2tf9WwnwaplHvmpUplxU+7TO3Z/8z4Nh5zUTlYmaGs+PUZmVaNKIcfF+uUiG3JOaozL65QMu5pVfRe0dsm2v5RWj9sjbbE+DxaP5jqom8/dp3NfVdkWnVF6fv5PMN6seWa09o21Hoa20nr60VKq19NnFEOVK5Q1rvHaqF82G8uM5r/LT2p0+u6SBuXKZSh9ee8mH2RfT/ajkRERJ9dic8gykuO6iU47TLcyhZEHu9E52q7vvz0IFwfFOC+bxnuUpuRBftisWpAPzNmX1gBi6cNm/d6EBhWz85YYH+oFrVFNm35tWItqEd311rkzJAzhC/MMN51FoL/WBCWhXbt3rRRVivGzpcF4X8zCNu9OeY8swrwYDHgfive5cZUygWyyveju6XENM9izD+BNKvxDJYoc7b482ULjHNn3ixKHRqZ4hnEybH8v8Y2tSAnv0jtbNFyyUTg/7MHKMyB3bjf6v2C597A2tvURBYq9nebz2Ca+lCU8hc/PChCznw5Q5OGsv3n8Ea1Oi6Tl4G/nESPKGNBjnm+fWkZbEOD8H8inzwnIiK6flJ+inlgfxVsSMeChTmwyg/48D/Uy8Qe1OSNBZHqPWGODjH77JB22dCysBF/6CiD5fVNKFbv98otRU1Honvvpi50tA010Xv8xEu7ry5Gvi1RYBpCwAvMTUuX6SgZmCWQuFzhahj+bieql+n3Kaqv0r1y2aeYNV1tqwjCSaPTMC7+TfyJDdZihf1wN0fvr1Rf+v2mUeG/66FowuA6SRmhv6mBfroIvvX0qC+lgQ86ExERTeIp5rSC1VhbEEDrnp7Rnz2xfln9hK3A7gE9iDS9WopGz5al5Vdhp2sAp06fwht7liC8tRSl+6/tzf/qvY6L1vTjf2zsxInT53DunHi5quTSMWdDF+VUPGnIyhcBxOURmY4KYeisnJxA4nKB4EEHip+L4L5fvSbaQa/fwPYCufTTKxRU+9ECa5K4Tw2y0/9V/LmaKJIMor2yGK2R+/DC4VN6H54bQLOhmaxf0QPxiX/0OnkZaf+qPlUdJ6i9EIT4fkBERPSZN4mHVNJQtqEW6d1OtEZv5J97O4rgwWBABAjRn8NRX58Xy25SI4Yg3MbfTZxhge2ba7Hue0DgTZ92hlH/wI/5sA6HtWVJfSj/Cv6j7YjcvRxl37SNnl2KjBgfhEmD/S4bgq/7EDAGF6Zt2WD/lg1+t9ec55IXvz8ClHw93s+1pFJuCN4jPmDpSpTMTRut30g4pb2cJCtsd8QGuaJ935eTiYg+uCInJxL5p7GjIvD7REhVkCVaLhkL7HeKKK3XB7+pbXvQsNKBdjUAH/ai70+iuAdKkJUmI86rIwj/Q59UWebZUYAe+E7JGZowep4qhqNDBKsplIF56rh1oc9rjhD9R92IzMmF/RY5g4iI6DNqck8x31GB2vuDaHuhSw9+ZhVh9U8saFtdjpajQYQvhRE83o66VXnY3KvmsOG2HAt6tmwwLN+F1peAnKX52hlGy5254sO6Hc5mD4LR9dc6k/zOogUz5wA9RzwIDYfVuAZZdvVeuDa0dvoRHA7A21GH0vUuPbuk3vtY8G4DHmtyIyDWi7ct+/fqUaLmqXfBL/KEz3vR8ugmePIbsa4w/i8CJi9XBJHfECHUS63YdTSA0Hk/3M+Xo/QX0/FrklnIuVcEub90ov3tEMKiLTw7ykWQLhdPwHKT2DfvYXhOi8A2wfXi9qYGtB9X+zII3+5qVHcAFd9fqfVlMmn3rUOVpQUbRtvWh10ba+BKX46Cr4oMX7EjV/Rr+55d8J4NIfi2G7scpXC+ra+vuWUl1v3Ygpaf1sGl7p9WjxrUvJKG5YtFAJ9KGbNKsO5nNrSvi47bEPydddiwYwQVzirod9iGRNBZA6dnOoJ4IiKiT7bJBYiwouSxWmR5GtCq/bSJBTkbutG7Rf3pmkJk52aj8PE+WB/vxrb79ZAh6wcd45c/0Yn935HnnMSH9dMdtZjTU43FYnnx1gBy6uqR+OKrHWVPlsH6nw7k3btPC8Ss921DZ91ceLcWY/GCUrT8JQfN/14lauhHYEhfC7eUYPfLzch/azMKF0ywLRH07uzrwMpwG8pFnuwHauD9WiO691aYH0IxSqFce/VL2PlQGAfWFCLvAQd+i3XY7xQ5PAHzmcdrwO74NZrFtlpW5iH73nIcmFGLbQ65cALWpatRv9CHhuXZ2HRk4p8gqnp8JcJ7SpGXuxilbWGU/XsvGguSXl/W3ZyD+v9lbNtqDM7dhu6dZbCpbTvDjrXtO1E2cgCOZXkofPS3wI/3o3mpaKa/RG9JEGPu/+tAR8kI2n4o9k/9PUlfFra9vBtlIjBMrQy1P4zjNg/le0awsuM1NC6U+xIJYPB3bhEwx95uQEREdOP7nPoos5wmSkD90etSwHUO9d+Usz5m/t2L8ZivDM3OtchP5RQmERERpWSSZxCJPjns1W/g1/l9KP91vP8hhoiIiKaKASJ9aqn/fWDpq3bs/p72f+kQERHRNcJLzERERERkwjOIRERERGTCAJGIiIiITBggEhEREZEJA0QiIiIiMmGASEREREQmDBCJiIiIyIQBIhERERGZMEAkIiIiIhMGiERERERkwgCRiIiIiEwYIBIRERGRCQNEIiIiIjJhgEhEREREJgwQiYiIiMiEASIRERERmTBAJCIiIiITBohEREREZMIAkVJzVf4VIuEwIoY0ERER3VgmDBB9zZnIzDS/spdVw9kdQETmuW6OO8X2HXANy/S1NOyCYzrKnqZyQ50OZDpcCGmpCPyvtKDtSFBLJReCZ28LXG9Pogev+tG2Yj4yby1EXacfoeEeOBe0wPt/5XIiIiK64SQ+g5jfiO7BEzihvvp7sfuHM+FZX4zqzlQDkunig1MErM7jMvmZFcGQtw0tPe8gLOckNoLAoV1o806i/050wXnbbpw63YmVwTosWrAJF5+pQoFFLiciIqIbTuIA0WJB+iwrrOrrlizklzdjx4Z0eJ5zwy+z0MfJiqLtp3Bqe5GYSkUWql47h94fZ8l0Cr5Zj3PbC2CZYUX+hm6cOncCux+yyYVERER0I5r0PYjps+cCQ4M4q1/jFCIIdDagdMF8ZGbOR15ZA9zn5SIpeMQJh7Y8E/MXlKKhc+wytXbJNNMJn0xrElye1fOXok1Mt5Wpl74N64a82LWmENnqJfHb81D6lBvBmHvlIqddaFiVrdUle1UDXP44597GleNC4LJcNoFUytXylOVhvlpubiGq9/oQTngvn2zbXHU/s7V6mIsNweUQy5r1FgjsL0bmqnaYzg9qbbkYu95WE/qZV0fnaOch/Kd21Mh6a3V63ouQsU5XQ/A+X41CrQ7x+xeXA3A9VYq82/V6Fq7ZBe/YJsRueOEU6xfuDcgZRERE9Ek26QBx5LL45L/JjjlpejrYWY3iLX7kb+/FicFebLN7UfNAAzwyoIocbUDhag9sz6jLB9D9hB3ejcXY9LvULorGSiveKcrZjwoxXbFPvfxdixx1wWUPGpaUo2t2vXZZfKDrSdjfrEFhk3c0GMWwG9UP18H79afR238Cr22xw9fshEcu1lzqQY1ajrUKHSLPiVd3Iv/dBhTXuMYFm6NSKfdsO8qXNyD4wH78QdTvjT0rEXmuFI6DE1/uDb0i2najF/YtvRgYfA2Nd4oA7xemUk2yFpfB/qc+eA2BdejoYXjmlKHgDjnD6Hw7HKucCJd0iPJlnfaUo3xf9PxwBJ7GRSh3p6P+ZfU2g248KfvXG23Uq37serAQDe/mY+erap4OVFm7UP6ICNyjQbUlC7n3l6Dg1plyBhEREX2iKRMY3JqhZFQeVC7KtGrkrQNKpT1DWfbCSTnjsLJJpNe4R/S06sOTSus9GUrlIX3N8eVcUU6+/Kzy7OH3tNTFQ5VKRkaTMqilpAsHlcqMSuXgBZk+1iTyGNIid1NGhtJ0TCaFkb4mZUVJqzL4oZwhvPebR0xln3xhkZLx8AHljCGP8u4+ZYWh7JPPxcnzfpeyRmxv/auG/TRIpdwzL1UqK37aZWrP/mfGt/EYvR1XvXhGpnVnfr3CsM5F5WClKGNrdA/PKAdKxtpetIpy+PEMZVG0v2S7RZfHa/uLffuUZ18aFGsKI31KU8kKpdWnLdIFDyqPGNp+xL1GybBvVvr+qac1cgyMbZeIiIg+TRKfQfTUIU+99Chf2StbEHm8E52r7fry04NwfVCA+75luANuRhbsi8WqAf3MmH1hBSyeNmze60FgWD3tZIH9oVrUFl3b+9isBfXo7lqLnBlyhvCFGcYnKULwHwvCstCOLEMeWK2QJ0OFIPxvBmG7N8ecZ1YBHiwG3G/Fu0SaSrlAVvl+dLeUmOZZjPljDfsxOGRB/tfN9wvOtBpLiJWF/Ift8Hi8+kMrYS9+321D2WLZXzHS7lqCHLTD+QsXfOf1n65JK6hCbXmOfk+jtQD1Xd1Y+w0tu07U2diq/j/3AEsXIOdmOUM1w46C79oQPOaXT1sTERHRp0nKTzEP7K+CDelYsFAEDzKwCf9DDUM8qMkbCyLV+9QcHWL22SEtOLAsbMQfOspgeX0TitX7EHNLUdOR7N67qQkdbUNN9B4/8crbOP5ybL4tUWAaQsALzE1Ll+koEezNlpMTSFyucDUMf7cT1cvk/X7iVbpXLptQPmxJthsrq6AMOb/7P/CKron4+uFWLy/fJhfG+moFOg5vQ85QGxxLsjE/Ow+OZo/5UvqwF2210fsLxWtBneHSeQjBc+LP7LRxD8mkp82VU0RERPRpk/JTzGkFq7G2IIDWPT2jP6li/bIaFlRg94AeRJpeLUWjZ8vS8quw0zWAU6dP4Y09SxDeWorS/df2gQX1XsdFa/rxPzZ24sTpczh3TrxcVXLpmLOhi3IqnjRk5Yuw5/KITEeFMHRWTk4gcblA8KADxc9FcN+vXhPtoNdvYHuBXDqRswi9LydT9dUCrPyGG78/GoLvDRds3y1A/POHOsutJaj/Va9os1PafZu2Iw4U1ss+jnjRcK8D/Vn16ByQbXquE2OtmgZbpvhzOTx2n6cUDIpIm4iIiD6VJvGQShrKNtQivduJ1uMyHJh7O4rgwWDAov8UTvT1ebHsJvVCZBBu4+8mzrDA9s21WPc9IPCmTzvDaP2KeuYtgrAxwgiHtWVJfSj/Cv6j7YjcvRxl37SNXrqNjERDWVUa7HfZEHzdh4DxDJlpWzbYv2WD3+0157nkxe+PACUxl3t1qZQbgveID1i6EiVz00brNxJOsJe32JE7J4i+Y+ZAOuE6GhsKHs6B29OKw4eyUFU4UXgYgW9HMYp/KR/iEX2TNrcE6x4tQKRzENpW3+5D+wf5WP5QDmzRS8giGDS2qv3OIuCVPniNT3lf9cP7SgS2u+yidYiIiOjTZnJPMd9Rgdr7g2h7oUsPfmYVYfVPLGhbXY6Wo0GEL4URPN6OulV52Nyr5rDhthwLerZsMCzfhdaXgJyl+VrwYLkzVwSZ7XCqlzaj6691JvmdRQtmzgF6jngQGtbPXmXZRaDiaUNrpx/B4QC8HXUoXe/Ss0vqvY8F7zbgsSY3AmK9eNuyf68eJWqeehf8Ik/4vBctj26CJ78R6wrj/9pg8nJFEPkNEQi/1IpdRwMInffD/Xw5Sn+RaC/tIiAvgL/xMTR0i3UuBeET+/RYwnV0toUrkdPZjva5Zcif8EqvRdQpB4HdDWhQ/4cU0fahs2607vHA8oMl+llH+QWgbY9oi/MhBEQQXvedahhb1XrfOtTObkd1ZQu850V7Dfvhqhf9fbkCzd+PBqch9DxVA6cnWXBLREREnwSTCxBhRcljtcjyNKDVo4ZlFuRs6EbvFvWnawqRnZuNwsf7YH28G9vu188dZf2gY/zyJzqx/zvynr1ZJXi6oxZzeqqxWCwv3hpATl09El98FcHTk2Ww/qcDeffu0wIx633b0Fk3F96txVi8oBQtf8lB879XiRr6ERjS18ItJdj9cjPy39qMwgUTbEsEvTv7OrAy3IZykSf7gRp4v9aI7r0V5odQjFIo1179EnY+FMaBNYXIe8CB32Id9jtFDk/AfObRIO2h3ejeng//FrFObjGcYp/qf57ssrSgXWYW23w4H4l+EttSoN4fuhIje8pF+dnIK2vFxaX70ftkvv4giuibbf9Vj7lHnShekofSHWK/tu9G1U2AXz6EpD6Qsva3vWj8mvrzN6K9FpSjLbwSHYcbkR896xgJYPB3bnhOx166JyIiok+iz6mPMstpIiIiIqLJnkEkIiIiohsdA0QiIiIiMmGASEREREQmDBCJiIiIyIQBIhERERGZMEAkIiIiIhMGiERERERkwgCRiIiIiEwYIBIRERGRCQNEIiIiIjJhgEhEREREJgwQiYiIiMiEASIRERERmTBAJCIiIiITBohEREREZMIAkYiIiIhMGCASERERkQkDRCIiIiIyYYBIRERERCYMEImIiIjI5HOKIKdNfM2ZKN0rE5J1bhHKHq9FbXEWLHIeEREREd1YEp9BzG9E9+AJnFBf/b3Y/cOZ8KwvRnVnUGa4FkJwOTLh6AzJNBERERF9nBIHiBYL0mdZYVVft2Qhv7wZOzakw/OcG36ZhYiIiIhuLJO+BzF99lxgaBBnR0/4RRDobEDpgvnIzJyPvLIGuM/LRVLwiBMObXkm5i8oRUNnQKwlHHeKeXmo8wCejXli2gHXsLaKYCw3E9nLqrHLazjLGPHCmZuJwr0BOYOIiIiIroVJB4gjl0WQdpMdc9L0dLCzGsVb/Mjf3osTg73YZvei5oEGeC7ryyNHG1C42gPbM+ryAXQ/YYd3YzE2/S4MZNeKed1ozAfyG7rF9E6s/Iq+nn93MQpHyx1Ax6Mz0VVeDudxLbQELFnIvb8EBbfO1NNEREREdE1MKkAMv90O5y/9yFq7HDnajB7s2uJBwdb9qF1og3WWDQVP7kDtl9px4Pf62T7/0XZECqqwbqm6PA1ZxfXY0VIF2+dHgBkWMS9dvZINy83p2qVsywyx0iU3Wn8ZREVrhyw3DfZS9fJ2BG0/bZOXt9NQ9MxO1BfISJWIiIiIronEAaKnDnmZmdolXu0y78oWRB7vROdqu7789CBcHxTgvm9Z9bRqRhbsi8WqAf1BFvvCClg8bdi814PAsHr2zwL7Q7WoLbJpy+P6y0n0oAgLcszPStuXlsE2NAj/6GVoIiIiIrrWEgeIhqeYB/ZXwYZ0LFiYA6t6lk8I/yMs/vWgJm8siFTvQ3R0iNlnh6CeQ7QsbMQfOspgeX0TitX7CXNLUdPhQ/iqWkJ8ob+p9xWmI80Qd2q+lIa5cpKIiIiIpkfiANHwFHNawWqsLQigdU8P1LBQZf2yGsFVYPeA/Ckc46ulCNGLv2n5VdjpGsCp06fwxp4lCG8tRen+iR8uSfvXLPFvBGF5u+GoC0F45SQRERERTY9J3IOYhrINtUjvdqI1+qDI3NtRBA8GA+q9hPLncNTX58Wym9TLw0G4jb+bOMMC2zfXYt33gMCbPu0MY1Tk6hU5JcxTy3Whz2uOEP1H3YjMyYX9FjmDiIiIiK65ST2kgjsqUHt/EG0vdOnB3awirP6JBW2ry9FyNIjwpTCCx9tRtyoPm3vVHDbclmNBz5YNhuW70PoSkLM0X55htGDmFwFvrweBSyH9rOGsEqz7mQ3t66LlhuDvrMOGHSOocFZBvwMyhJ6nauD0GMNMIiIiIvqoJhcgwoqSx2qR5WlAq0d/4CRnQzd6t6g/XVOI7NxsFD7eB+vj3dh2vx7+Zf2gY/zyJzqx/zvRh1SsKHi0Hvl/bkBh7iZ45PVre7Wx3DyU7xnByo7X0LhQPrgSCWDwd254To/oaSIiIiK6Jib8v5iJiIiI6LNpkmcQiYiIiOhGxwCRiIiIiEwYIBIRERGRCQNEIiIiIjJhgEhEREREJgwQiYiIiMiEASIRERERmTBAJCIiIiITBohEREREZMIAkYiIiIhMGCASERERkQkDRCIiIiIyYYBIRERERCYMEImIiIjIhAEiEREREZkwQCQiIiIiEwaIRERERGTCAJGIiIiITBggEhEREZEJA0QiIiIiMmGASEREREQmEwaIvuZMZGaaX9nLquHsDiAi81w3x51i+w64hmX6Whp2wTEdZV+Lcoc9aNvhgv+yTE+bEDx7W+B6+7r3LBEREX0CJT6DmN+I7sETOKG++nux+4cz4VlfjOrOoMzwcfHBKQJW53GZvFGFA3A93wbv32Q6JVNpmxEEDu1Cm/fj7lciIiL6JEgcIFosSJ9lhVV93ZKF/PJm7NiQDs9zbvhlFppGt1ah91wvqm6V6WmTharXzqH3x1kyTURERJ9lk74HMX32XGBoEGdDcgYiCHQ2oHTBfGRmzkdeWQPc5+UiKXjECYe2PBPzF5SioXPsMnWo0yHmO+GTaU2Cy7N6/lK0iem2MvXSt2HdkBe71hQiW70kfnseSp9yI3hVLpMip11oWJWt1SV7VQNc/rBcYjCuHBcCSS7zTku5MZfWtcv+Dhd83l2yPdX2dsIj+yLltsktRPVeH8KjbaOfdXR0RjtVnoXs9sCp7dNYOSGx7epl+n7G9iURERHdGCYdII5cFkHETXbMSdPTwc5qFG/xI397L04M9mKb3YuaBxrgkYFP5GgDCld7YHtGXT6A7ifs8G4sxqbfxQmgUpBWvFOUsx8VYrpin3r5uxY56oLLHjQsKUfX7HrtsvhA15Owv1mDwibvWAAz7Eb1w3Xwfv1p9PafwGtb7CLoEgGWXKy51IMatRxrFTpEnhOv7kT+uw0ornGNCzZHTVe58fx3A6o7LFj3mwEMvLYNyy+1wdHohtqaE7eNCPgeGdv2wIsViDxXCkdHQF06ofYtrQg/vBMdB8qgnlsM/64Gi8q7MPPRDgyINu7dng//lk/CLQdERER0TSkTGNyaoWRUHlQuyrRq5K0DSqU9Q1n2wkk547CySaTXuEf0tOrDk0rrPRlK5SF9zfHlXFFOvvys8uzh97TUxUOVSkZGkzKopaQLB5XKjErl4AWZPtYk8hjSIndTRobSdEwmhZG+JmVFSasy+KGcIbz3m0dMZZ98YZGS8fAB5Ywhj/LuPmWFoeyTz8XJ836XskZsb/2rhv00mK5yY/dba8t7WpWThjJGXl0f037j2+bMnmXj13OvUTLsYj1tnr5OtM+i6Xj9uurFM3KGTisnY71yeIJdICIiok+fxGcQPXXIUy9Jylf2yhZEHu9E52q7vvz0IFwfFOC+b1n1tGpGFuyLxaoB/aySfWEFLJ42bN7rQWBYPZdngf2hWtQW2bTl14q1oB7dXWuRM0POEL4wwyKnVCH4jwVhWWhHliEPrFbIk6FCEP43g7Ddm2POM6sADxYD7rfinXGbrnInkJWGdEMZ1vR0OTWREHxvBmB5KB9243q3LYD9gwACf5cz4rDNNvTrsB/9QzYsuct8n6J18YMogRuDp+UMIiIi+tRL+Snmgf1VsCEdCxbmwCoDjfA/1AubHtTkjQWR6n1xjg4x++yQCE1EOLiwEX/oKIPl9U0oVu+byy1FTYfx/rdrJ3S0DTVleZgv65K30XSRV5NvSxSYhhDwAnPTYoMuEezNlpMTmK5yP7oRhEWsHnm+1NBH4rWsAX54EbwgsyUzHBC55yLtSzIdZRUBq5wkIiKiG0PKTzGnFazG2oIAWvf0aPe7qaxfVs8wVWD3gB5Eml4tRaNn0NLyq7DTNYBTp0/hjT1LEN5aitL9kzhrlgL1XsdFa/rxPzZ24sTpczh3TrxcVXLpmLOhi3IqnjRk5Ytw7vKITEeFMHRWTk5gusr96GbCKmLXnJ93j++jwQGsu0NmS0Z9il3UNxL7UE1oCNe2J4mIiOjjNomHVNJQtqEW6d1OtB6Xj33MvR1F8GAwYNF/Cif6+rxYdpN6eTcIt/F3E2dYYPvmWqz7HhB40yfCDRFkfkU98xZB2PgobDisLUvqQ/lX8B9tR+Tu5Sj7pg0WeYYzMmJ8ECYN9rtsCL7uQ8B49tK0LRvs37LB7/aa81zy4vdHgJKvx/sZmOkq9yMabRtRv2/Y4Dvqx8gXDX00S+0f62hbJXWLHQvm+NF11BwOht/8vRgBJcid9p/iISIioutlck8x31GB2vuDaHuhSw9+ZhVh9U8saFtdjpajQYQvhRE83o66VXnY3KvmsOG2HAt6tmwwLN+F1peAnKX5InQBLHfmiiCzHc5mD4LR9dc6k/zOogUz5wA9RzwIDYe1p5Sz7EWApw2tnX4E1cuhHXUoXe/Ss0vqvY8F7zbgsSY3AmK9eNuyf68eJWqeehf8Ik/4vBctj26CJ78R6woN9+QZTFe5UzO+bezfFvX77zr8KLpt0T6eHeXIq9gFvzEwT2SGHRV1JfA3PoY60cYhta+OtsDxhAf5z6xD0bXcBSIiIvpYTS5AhBUlj9Uiy9OAVo8aWViQs6EbvVvUn64pRHZuNgof74P18W5su1+/wJz1g47xy5/oxP7vyHv2ZpXg6Y5azOmpxmKxvHhrADl19SjQl07AjrIny2D9Twfy7t2nBWLW+7ahs24uvFuLsXhBKVr+koPmf68SNfQjMKSvhVtKsPvlZuS/tRmFCybYlgh6d/Z1YGW4DeUiT/YDNfB+rRHdeyvMD5gYTVe5UzK+bdT67TduW7RP69By7P+PtbAbn+NJwnr/TvyhYyVG9ojgUu3LjV7Yt3Rjfzl/YJuIiOhG8jn1UWY5TUREREQ02TOIRERERHSjY4BIRERERCYMEImIiIjIhAEiEREREZkwQCQiIiIiEwaIRERERGTCAJGIiIiITBggEhEREZEJA0QiIiIiMmGASEREREQmDBCJiIiIyIQBIhERERGZMEAkIiIiIhMGiERERERkAPz/8oZdER20TAEAAAAASUVORK5CYII=)"
      ],
      "metadata": {
        "id": "VTiSBGZ2G3o_"
      }
    },
    {
      "cell_type": "code",
      "source": [
        "numerador = 10\n",
        "denominador = 2\n",
        "resultado_da_multiplicação = numerador * denominador\n",
        "resultado_da_divisão = numerador / denominador\n",
        "resto = numerador % denominador\n",
        "resultado_do_inteiro = numerador // denominador\n",
        "\n",
        "print(f'O numerador é {numerador}')\n",
        "print(f'O denominador é {denominador}')\n",
        "print(f'O resultado da multiplicação é {resultado_da_multiplicação}')\n",
        "print(f'O resultado da divisão é {resultado_da_divisão}')\n",
        "print(f'O resto da divisão é {resto}')\n",
        "print(f'O resultado do inteiro é {resultado_do_inteiro}')"
      ],
      "metadata": {
        "id": "B_eXKEMGT_ZQ",
        "colab": {
          "base_uri": "https://localhost:8080/"
        },
        "outputId": "481d73c4-6bba-4b0b-f1af-4fd972fb3426"
      },
      "execution_count": 70,
      "outputs": [
        {
          "output_type": "stream",
          "name": "stdout",
          "text": [
            "O numerador é 10\n",
            "O denominador é 2\n",
            "O resultado da multiplicação é 20\n",
            "O resultado da divisão é 5.0\n",
            "O resto da divisão é 0\n",
            "O resultado do inteiro é 5\n"
          ]
        }
      ]
    },
    {
      "cell_type": "code",
      "source": [],
      "metadata": {
        "id": "YItT3plkT_W-"
      },
      "execution_count": null,
      "outputs": []
    },
    {
      "cell_type": "markdown",
      "source": [
        "![image.png](data:image/png;base64,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)"
      ],
      "metadata": {
        "id": "zH4WdGI-GaJV"
      }
    },
    {
      "cell_type": "code",
      "source": [
        "import math as m\n",
        "\n",
        "angulo = 30\n",
        "\n",
        "rad = m.radians(angulo)\n",
        "\n",
        "seno = m.sin(rad)\n",
        "cosseno = m.cos(rad)\n",
        "tangente = m.tan(rad)\n",
        "\n",
        "print(f'O sin do angulo de 60° é {round(seno,2)}')\n",
        "print(f'O cos do angulo de 60° é {round(cosseno,2)}')\n",
        "print(f'A tan do angulo de 60° é {round(tangente,2)}')\n",
        "\n"
      ],
      "metadata": {
        "id": "xYfhe5UVT_8U",
        "colab": {
          "base_uri": "https://localhost:8080/"
        },
        "outputId": "159a4941-0f27-4bb7-cf1b-c86f7131511a"
      },
      "execution_count": 89,
      "outputs": [
        {
          "output_type": "stream",
          "name": "stdout",
          "text": [
            "O sin do angulo de 60° é 0.5\n",
            "O cos do angulo de 60° é 0.87\n",
            "A tan do angulo de 60° é 0.58\n"
          ]
        }
      ]
    },
    {
      "cell_type": "code",
      "source": [],
      "metadata": {
        "id": "0cFeBbV7T_6H"
      },
      "execution_count": 73,
      "outputs": []
    },
    {
      "cell_type": "markdown",
      "source": [
        "![image.png](data:image/png;base64,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)"
      ],
      "metadata": {
        "id": "jwD--ArzY8Mq"
      }
    },
    {
      "cell_type": "code",
      "source": [
        "reais = 240\n",
        "taxa = 5.46\n",
        "dolar = reais / taxa\n",
        "\n",
        "print(f'O valor em reais é {reais}')\n",
        "print(f'A taxa de câmbio do dólar é {taxa}')\n",
        "print(f'O valor em doláres é {round(dolar,2)}')"
      ],
      "metadata": {
        "id": "uX4bo7rzZw14",
        "colab": {
          "base_uri": "https://localhost:8080/"
        },
        "outputId": "40a0897a-012d-4c6c-8dd2-a5a1453172d3"
      },
      "execution_count": 94,
      "outputs": [
        {
          "output_type": "stream",
          "name": "stdout",
          "text": [
            "O valor em reais é 240\n",
            "A taxa de câmbio do dólar é 5.46\n",
            "O valor em doláres é 43.96\n"
          ]
        }
      ]
    },
    {
      "cell_type": "code",
      "source": [],
      "metadata": {
        "id": "pxnsNMuhZwzS"
      },
      "execution_count": null,
      "outputs": []
    },
    {
      "cell_type": "markdown",
      "source": [
        "![image.png](data:image/png;base64,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)"
      ],
      "metadata": {
        "id": "4JeFC6dyZxPM"
      }
    },
    {
      "cell_type": "code",
      "source": [
        "import math as m\n",
        "largura = 10\n",
        "altura = 20\n",
        "area = largura * altura\n",
        "perimetro = 2 * (largura + altura)\n",
        "\n",
        "print(f'Altura:{altura}')\n",
        "print(f'Largura:{largura}')\n",
        "print(f'Área:{area}')\n",
        "print(f'Perímetro:{perimetro}')"
      ],
      "metadata": {
        "id": "46lRVY2naHzG",
        "colab": {
          "base_uri": "https://localhost:8080/"
        },
        "outputId": "7a117df7-b3b8-4911-f111-f76d34aef412"
      },
      "execution_count": 114,
      "outputs": [
        {
          "output_type": "stream",
          "name": "stdout",
          "text": [
            "Altura:20\n",
            "Largura:10\n",
            "Área:200\n",
            "Perímetro:60\n"
          ]
        }
      ]
    },
    {
      "cell_type": "code",
      "source": [],
      "metadata": {
        "id": "7a2CBygjFm6b"
      },
      "execution_count": null,
      "outputs": []
    },
    {
      "cell_type": "markdown",
      "source": [
        "![image.png](data:image/png;base64,iVBORw0KGgoAAAANSUhEUgAAAw8AAAB2CAYAAACOGa9CAAAAAXNSR0IArs4c6QAAAARnQU1BAACxjwv8YQUAAAAJcEhZcwAADsMAAA7DAcdvqGQAADYiSURBVHhe7Z0HmBTF1oYLRcWcc0TFiF4DKmJAUIyIIlzjNYC/CUTMGXNCBRRBzGImKCiIWYKKYkQMIEbAhIqggAqo9N/voWvtme2Z6dkZlkW+93nmmd2a7q6qU+mcqlPVtYIQJ4QQQgghhBAFWCz6FkIIIYQQQoi8yHgQQgghhBBCpELGgxBCCCGEECIVMh6EEEIIIYQQqZDxIIQQQgghhEiFjAchhBBCCCFEKmQ8CCGEEEIIIVIh40EIIYQQQgiRChkPQgghhBBCiFSUxXh48cUX3VNPPeXmzp0bhQghhBBCCCH+bZTFeFh99dVdjx493IABA1wQBFFo9fH333+77t27u+233959+OGHUagQIhf9+/d3G2+8sXvzzTejkPnD559/7vbYYw934403RiH/TqpLnguCadOmucMOO8ydeeaZ7o8//ohCRTlgwu25555zLVq0sPpz1FFHuV9++SX6VZSLL774wu29997usssuc3/++WcUWh5qah+3MOhFP//8szvmmGNcmzZt3IwZM6LQmoN0y9zkNB78YJjvQ4Oh4Wy33Xbu4osvdp07d3bvv/9+9IR0/P777+6+++5zBx54oD1zs802s8o0dOhQK7g0LLbYYq5OnTputdVWc8sss0wUKoQQQtRcXn31VXfGGWeY4nTqqae6Vq1auWWXXTb6VRRLLkV+ySWXdEsvvbTpCOgLiwILg160+OKLW7kwAV27du0otOYg3TI3OVtRw4YN3UMPPZT4uf/++12TJk3cBhtsYEL11++2227urrvuMoMgDV9//bU7/vjj3Q033ODWXntt60T/7//+z02dOtW+r7322lTPqlWrljv55JPNfWqTTTaJQoUQQoiaCytVq666quvVq5c7//zzXevWrd0SSywR/SrKxfrrr++efvpp0zFQWBcFFga9aKWVVnL33HOPGXsYETUN6Za5yWk80NgwBpI+a665phs7dqw74IADrPCBgm/ZsqV75ZVX3Ntvv21h+cAouPnmm22mgMrDh2VxOlD2T5x++unu4YcfdsOHD4/uEEIIIf4d4AL23Xff2cQZY6oQQiwsFL1+hyvRM88849ZYYw3XrFmzKHQe22yzjdtyyy1N4S/kcoSB8eyzz9oKA8uMWHgelhjx/cTSGzx4cMXqA9Yp144cOdJ17NjRXJwGDhyY8RvGSJxvv/3WXKrwWfMuUa+//nrBvRm5npe0LMrfe+21l3vnnXdct27d3C677GJxsary0UcfmV8rMvF+rfx+xx13uFmzZkVPSMbH9cgjjxS8n4EI4wvf5FGjRlk+SQNpAvJLWtq1a2dlVEgWyO3CCy+0a/kgb3z+eH523nOVCel7/PHHK9JNGXDNpEmT7HcPs2/8jqsc5e2vx0eVfTTUJe7h3nh6SGM2n332WUV58wzc4UjDnDlzoitygxwwfrPljOz5P+7PXkz9APIQzxvPpq7gT54GjPU0ZTd58mR300032fOJp3HjxpaHtKuBpMfXYe6nDHArjNe1eHnFidfBQvkqVR7kh3SRvmLuJ83IL3tvAnJEbjwvXj/5O16fSC/pLtS/5ZNFtvz8tf/973+tjfr44vWc+ks99vmNt41s4nWFD38TlgbSes0111T0l7jS5PP1rUpcC0o2afujXKSts9SlDz74wJ144omWzqT2Sj633nprN2jQIHP13XHHHe2Z8XpJeuN1nO9cbZExgt/I07nnnutmz55tv5fSH5Jf3If9WEJeyBN5y+53svHpou9MUzZp4/L96/XXX29lwWQmdWPChAlWn/bdd1+rE/R5xOf74Vzjdq6xKxc8m2tJHx/GSDwokkDG8fpCGVAWSeNWNrny6ffDpC3XXONUVfu1XKSpq0nQdig32jhtHeJ9QFx+8bpTSB/w/QYrTZ988kneayFfXciWYU3qkxYkRRsPCGbIkCHWSDEg4qy44opmQGAY/PTTT1FoMu+++65baqmlrFHEDQfPKqusYr9BXPGh8Zx99tmmINP58oxc0MCOO+44qzxUoosuusgK/oQTTijYSRQLM0hs+vnqq6/M8KFivfXWW1YRGIypYA0aNHDt27d3G220kVVIXLzSNNbrrrvOXX755W7nnXe2+9ddd127H3ev7M6CPBPnN998Y/LxfoQYfMcee6yl77zzzsuQxRNPPJHRQaOAsvLDCtB+++3nTjnlFPv96KOPtsaSTVKZUGaXXnqp69Spk+X73nvvdR06dLDBADmxgS2bq666ylziUHhRWjC66JxxX2MgIQ2khTS98MILtkrFhisPg/Phhx9u5c19uAJsvvnmJnsGk0Kypk5gzOJ/jIxYrhw2bJiluxSI97bbbrP0sj+IFTfyQPkj53gekiBfDKrjxo2zekxdSCo7yp7rKGvkhMzptG699VZ3xRVX2D35+PHHH035I12kj3Ruu+22Vs8oy7QGSCFKlQcDzjnnnGPK/g477JBxP+knH7lA4WNVFSMxXud5JoMWdXWttdaysPfee8/kOWLECJM1A/nKK69s7Yv0p2m7xTBmzBhro/SHTDwwOcMECwMV8u/Zs6flk7bBBAt1nDYax9eV3377zcqc+kK9ISyumCZBO6beP/jggyZXZIlLDflNavelxFUspcqmKv1RnGLq7BtvvGFppE5xfdK4U69ePUvDrrvu6urWretuv/12cwkmHHx677zzThtru3TpYn0rbZFNv9ltmXTQHtZbb70Kb4BS+kOfX+TJOM/flDF5Im+MbWlAxuTTl43v0wnz7a8qcT355JMmhxVWWMFWbvBHJ1/su6TOHnzwwSbPQw89NLojmWL0CYwE+lXGHvLD35QT9f6HH36IrpoH5UNa6Kfw56f8jjzySPfyyy+bTkJfnYbsfEKp41y5+7Vi62paStUHgMMI0MfoN7jW9xv8nW30FVMXYEH3SQucsABSExZeEFbUoGnTpsHEiROj0Ewee+yxoH79+sHo0aOjkMqEQgvCihqEwg5CCysKLUzYGIOwow3CyhnMnj07Cp0Hv+2+++5B2Cjt/+nTpwdhBQnCwghCZdDCIBzogrCxB6GlF4RKchRameznefifcH73+HT17dvXZOQZNGiQhXP9+PHjo9B/0nbQQQcF33//fRRaGR9X2OkEoXEShc7LQ9gpmZxDI8zCvEzDwcfSEXYAFg6UVdiog7BCBlOmTIlC/3lOw4YNg3DQtzDS36NHD3t2qDhX5Ifv/v372/OT8p5dJmHDClq1ahX06dMnQyaEhw0lCBtWFBIEYWO1Z1AupMlDuqlr2bLlu3fv3hY+dOhQCwst+CA0soJQ4c+Q6V9//RWEjbNgXaMuUCdat26dUS/Cji8IO2WLi3R6iqkfpDFUODLkCWHnbXIOB7kopDKhIhwcccQRVgfCASoKTa7HYecThAZeMHbsWPsfiI/w7DbZr1+/jDwhJ8qQdI4cOdLCgPuRPeU+fPhwC/PlxTPi+DrYsmXLYOrUqRZWbnlwPX0Q6Rk8eHDG/aSb54bGuuUnCepoOMiYnELlJAoNrB0RN20W+C0c5IP9998/+PLLLy0MeG63bt0y5AHZ8kyShSdbfv5a4kcGHvJGW+Ta7HpJf9C8eXOr7zNnzswIQ9bxtsh93B8OYhntKxvkTlzZ/ZiXK2kkrVBKXAtCNsX0R0mkrbP0Q/Sp1Jt4n+3lEiobwa+//mphueTA8+nfaDcff/xxFJq/LWaPEaX2h/S9jBddu3bNaEvEQd5CgyiYM2dOFFoZn66zzjorY/ylDyOtcR2imLh8f8L9fsyKk9TfQFI4f5PGJH0iG9JFv5JUD5PGxSFDhlhYqMxn5OnTTz+1tBdqi7nyWWy5kiaew/Og2H6tEMXU1SSo99T/eN/i604p+oBvW7RZyit+rS8v+g8fnq8uZMuwpvRJC5qiVh5CYdiqQ1iANvudBJuowwK3WYNCLLfccvYpBqxvZhWw5PKB1cYSVFgxM+JghiKsCC5sOC5sfFFo6SAPZuviqygsYxG+zz77ZGy2WX755W2JKhxEXFiRotDcsJTlZx2APLAKAGFDs28PcTLbHD9RgllAVhywjpmV8fjnkIaw0VkYaQobu2vUqJHbaaedKvLDd9gQE31zk8qEGWuW40LFN0MmzPrySco35RI/0YAZG1ayttpqK7fnnntmpGWLLbawv0NjyL6ZJWCGj9kPP3MMbI7jGcx+hJ1CFFoZXC1wzzjkkEMy8shJC+S7qnAsIJutWDWKyxNIV9iJWdy5jg+knjJTRDnFV/qQE2llc6Wf9Wrbtq25L1AHPMTHLAptMl/+KXdmtJg5YhbEw/2sACL/csyElCoP+pWXXnrJ6jj9UPx+0k36ww7dVgKToI5Sz5jdwdXBQzuiHvuyDo19m0Fmhi4cDCwMqE8ss1OHn3/++bIe+0jekYGHvPmywC0hXi+ZXaZPYYXXrz7i/kIffdBBB2W0Re5D1pRfrlUd2gcujtltDahPcRlAKXFVhVJlU5X+yFNMnQ2VABcqYnZiUnzmkrbLzCLHPhYa81j5ZIaacYMZZQ/xMsaQ11BRi0LnQV8QHyNK7Q8Zx3E7CZX/jA3GyJY0hQqU5bMQrKzE84sc6MsYj3weqhJXtmyqSlp9gv5x9OjRNi7iYuahTLLHRWTLTDjthpWPeJ423XRT6z9ee+01FxoSUWhusvNZarmWu1+rSl1NSyn6gIc8ck/8WtJKO0YvIv2etHXBsyD7pJpAUcYDlQR3GAQTbxBxfHh2IZYLlOK4oHMRWommMLG8haIe/1xwwQUFlalywmbyXPKqKhtuuKHlBeUyng/iyT6Kjo56nXXWsU46GxoXjcA/h3JDKaCipz0yMFeZ0OnTOEIr3HwISS8db7HH+dKYCy0hQmgMW4d8ySWXVPjs+/IuhK+vyKKc0AGwvIzyQUfj0xSXRb6BGN9H8k5nkg3KM/KlE/LQPnFfYKnXx8OybSGmTp1qRgj1KrvzxADmQAOMk1IpVR4+nZRTfGAB0k3njVHgDaokGOwZKDCWYPr06WY8cK8fkJE7+EEpjh/EfB9THaSZZMH4RWFnAIzLlQ/uDPkUC3xvyTPKDe6nhSglrnKTdgKqqv1RMXWWvh7FBuMUBe3RRx81uWJU4HqCEpHdP2eD2x199gMPPGD1PB4fxjGuw9mKRdL4Ukp/CCg5jPlMOqEIcy8TEezTKAXaFO0PFzdPsXGR3zR6QCHS6hO+30kzLvq2RNlR3nGIi36GfoMyLkRSPksp13L3a1Wpq6WSVh/IBf1b/fr1TRbxCY60dSEN87tPqgmkNh6wmDjqjApBoy4HdBjzc4DBjw9/vodix8zGP+VWFKsTKjodCwMWA1MuGMSZhWUPSXZHFqfQc4qFRoG/I4osSm7fvn1tLwwDBA13fsCMClY8xg/+kqygsLeGPQJpQEmOr8yUEwxufMmT6iEGbr7ZDsotTWdEp8/gixzwtWUGifzffffd0RWFYQCpDqoqDzp7BqQkY8pDXc7nt4uBwACOwYDhgO8rigyb4vwxmQyIzBzlazPEwUBek8D469GjR6JcaYvx2cpSqc64SqUc/VHaOstqN5sjkQ+++xymgUGRZgNpnDZt2iTGxaeQLz+U0h9St9mHwX4OZnpJO+2F1fz9998/uqpqoKAxfvkJgvkZ14KAPgp9iVWWfEquz3+xlFKu86tfK7WuVifUP3Qn8slnQbEgdKRyktp4oDHjPkEHmk/RSQOzM8yCY8nHLb84GBVsND7ttNOqvIqBiwObk3G7SPqgUC+sIB+MLzZE55vJQtasOjBzwoagbDAY5kcDwnWEWSM2TbHxEtcrFHM6rfnxMhiUQGY8mYm55ZZbbKMSdQwDMnuGOhfUxyQZlQPyzIxCUj1ktidp5tBDmgrN3rDMzOYy8spGLU5vwDgm/2lnQYBBrzqoqjyoQxh5uU44SVOXMRDY3IbBwHNwR2BApY56WJHLVR8YWMtpaJcTFBJmsJLkyrt4iqkLhajOuEqlHP1R2jqLcsLgT3+EywYHGKAcEDdjmndbKASKZ1JcfJB7PkrtD1lZws2KTZ5sRMX9CGUYeZU6/jN2YUR5uc/PuBYE1CsmYZiVT5ocLWW8LbVc51e/VkpdrW6QP5OqtNd84+78prp1pHKTynigovXp08f8jPEVS4N/eVwu6IS9f32SlYvij8ECaZW/OD5+/Hhr2uxgOWA1YeLEibbMVWgJjw6D6/2SZRyegcsSDRxDA7kxY4jPcikuGShmKGTZM8Te6Ck3GKHkD3mwpyROmmVTFFKUoTRLycXA4MdAwgBZFcWcgQGZJSnLnIDDAEL5UVasPLCsTucThxmOQmBIU17Uh+zyoS1ymgsrGaVSqjx8Oslrdr5IN4YArjcYzPnANYLn0P/QR9CvxVddkDvgrpINkxkohSz91yQFmfSzKhN3B0kLe3vIM/UfBaUQpcS1ICilPyqmztJWcIejHQGGKvWEFQhO28HXHbnlgzqFa8WYMWOqPJlRan9IPaBPIe1xVw6USxSvUqC/In20QZifcZUL3++Q1kL9qW9L9FHZ5YcuQh+F61NVPB9KLddy92vlqKvVDfsccPtCFijrC4rq1pHKTSrjgcrOcgqrDoUUeSo2DQNLOB9spmE2Bl9qXtEfV/CxDDFWKGB8aqtiPDDzwwY3npM9wNFwON4s3xIyDTt7cCSN+KJhuVcnyD9+/CSdF760wAxfIZilwIDgHgw2j38OHQBlAXQELLMzALIU6ik27zQI5Edn5MuWBkF8bC4sN6Qbw4dOjFUWD2XNywYLgdLN7GG/fv0y8kgdSfI/TFs/aAts0GLQoS7GOwX+xqUI/+hcMEjQVpBbdh3o3bu3HSVLHBiQGEAoOPGDAPgbxb8QyK9Ro0a20c+/GwTIE8uoHPfKoAjMCtLxcl08P+y3IP58lCoP+hXuJ024Nfi6BaSH9LPfo5DxgDLIDKc3inAric9CsfmP31lKJl8e+iZcUjDmmPXL9TZgv7qKAkFePdyP28H8ALcr6gCuNfE6gIzoYzk3PdesJ+llcojyY0YsLlfqeDwPUGpc1S2bUvqjYuosChyGQteuXTOUTPKGUoAhUmhWkbpJf4wsWLWIzwbzfJ6da+XNU2p/SPshnUzg+fj55sAU+py0sCk1Lgf6MGTOeOTdn8sVVxzkHa/DpUK/06RJEzP+svvH7D6f+o17N+2GPMTLj3cF0H+wGbgqM/Kllmsx/Rp5YyIBoyCehzjlqKvzE9ps9hjNgRvos+hF2QZYdVJMn8TvGNi5ymFBUHBthIaPQsXMHANGPsggjQNfz0L+rhQaS5T4ZnO2Pr6NKEoIjwbKrCrnJ1ORqwKVmvs5wQF/PE4SwJ+SSsPAxtux8/kcsjKCgsgyM8o7m90YWBkYq+qrWFUYmNj0ygY8FDfSTzrI33/+85/oqtwwUHMtZwojC2+Q0YEgZ94j4U9KYOaHd1RQBpyFjNz8rFsxeadhIj+WohkAGCD4ZgUERZdvZpXoaMuBVyp5/wVyoqMnDpRMBmxmBJm1YVY6CWYA2C9Aepkh5PxmlAY6VOpMNsXUD06kwRDzbgzIn9mPwYMHW+eG7Gk78Vk3j6/HvN+D9FE2Pl3UC868pk5wLwOWf58H9RtlhX1KXlnBsKdckkBx/t///md5Ja5WrVpZ3eJ9CDyD01z8qiNKI4Mf/QJlSLtFtlyHcVrodKpS5EEY/r4MnsgFeZAuyuCxxx6zuE866aSCy9H8Th7Y6McMKH1DHFZvOnbsaB/kybnq5Jv3avi2x/35oA7i80sfR3kQJ2fWJ9WncoABTH/HRkpOtPFpZrDkvHPOG0dJyCUbjAfaO/0E7Z9yZfN5Up0uNa7qlk2p/VHaOst7Fk4++WQ7cx+libpKe/V9NmfAFzJskQVtkTqOIYJSTd+GokGbw02Vibx8lNofeiUTF0j6GdoH5YNSg7zoS5hYKdR/Y5iz0oAcID7m+BnXcsUF9IUYJrwfAVdOyr2qOkScfOMixkN2PUfe9Bu4pPA7ZYEc6KOYrON9AlWZFC21XIvp15A5PvnIH7cy4s6mHHV1foLCzXjGPiTqAsYsZcD4TXkmjTHVRTF9Epuq2RDPHhfkXRMouPKAsKmYdPDZ7hDZoDjQMWS7AOSCwYmjJREeHTLH2OG3TSVlUKci5xp80sBMKp02gyIzRjQYZg2uvvpqa9T5luZQuLt06WJLeFj0pAcFk0ZWSDkqN1QWXiRCh4hMmGXA8GKATisfGjCDNUYdHQ/Pw4BD/iiK8UZEB8xLkFAYUVI5Fg5Z8U1Hkwbkx8Y3FFoGEBosm1RpBNQPZj3KuSRN+lEaSTcGKIM8nTWbka688kq7hk4wH3QwrIQhF4wCZk3onJM2ohVTPxgkaPTM3tO5U3bUdQZPXhrDrHe+Tox6TDkxKJIfOmmWW6nbpNnfSxsl/fyG7Fk94m2zDMooMCiCKDi5oNzZuMhLjFCKaC8c7Ud9If1+sGOQQunjOgYc7kHWxMPAWohS5UH/gOx5oRmrD6STGT42XFJHyUcaKDsMB1YovZtjHFZ8kLtfoUDxI73Ewct8CrU96gF5pD5RHxlMWSmkL0rbjooBmVEfqBfkC5lS/gxCPv2UXS4oF4wBytCXKwoE+aUPjVNqXNUtm1L7o7R1lg+KJcoWeaOtoiiixHAvikyaPps6zOq4HxuRJyuNKGYo4NTdfJCOUvpDxnpcImnj7HX0/QrlhOGE+xZKaiFIP8YldYIjRtERGHvj/Va54gImcRgjcTNCXoyV5SJpXETPIR7vguVB4UPZo5+i36X8GCMYh+lTUBqrQqnlCqX2a9mUWlfnJ3ig0O6pP6SLdk8fgPzSjhPzi2L6JPoSPvl01uqmVqhMlG1tj4bPqRN0BLgOiNJgFcevFDBYLWhwM+CNlBgbDIiLCihIDAQ07lwz90IIIebBpCOr5Z07d7YZXrHwgcHLOI8hxKmVaVZ+agoo3Rir+VZNRGmkPm2pEFjBWOMYDczkiYUXjAQaHGXqwdeOc86ZBWLJTwghhBD/TthzyoQwM+MLk+EgqoeyGQ/4uvGWYvyyVdEWbjAQOL8d33/cyPBlZ6mUFSVWHWQcCiGEEP9e2CjNXlQOUBEim7IYD/gVso+AJa7q3g8gyg8+9vjx4quIXy8+pJyowiY3/CplHAohhBD/Xtjvh17n97oJEacsex5wZ+FUJnzz872wTAghhBBCCLHwUtYN00IIIYQQQoh/L1omEEIIIYQQQqRCxoMQQgghhBAiFTIehBBCCCGEEKmQ8SCEEEIIIYRIhYwHIYQQQgghRCpkPAghhBBCCCFSIeNBCCGEEEIIkQoZD0IIIYQQQohUyHgQQgghhBBCpELGgxBCCCGEECIVMh6EEEIIIYQQqZDxIIQQQgghhEiFjAchhBBCCCFEKmQ8CCGEEEIIIVIh40EIIYQQQgiRChkPQgghhBBCiFTIeBBCCCGEEEKkQsaDEEIIIYQQIhUyHoQQQgghhBCpkPEghBBCCCGESIWMByGEEEIIIUQqymo8/P3336579+5u++23dx9++GEUWhwDBgxwW2+9tXv++eejkH83P//8szvmmGNcmzZt3IwZM6LQ+cfnn3/u9thjD3fjjTdGITWXOXPmuEceecTtvffebuONN3YXXnihmz17dvSrEEIIIYSobvIaD/379zelLf7BMOjQoYN7++233dy5c6Mr57HYYou5OnXquNVWW80ts8wyUWhxcN9yyy3nVlpppShk4VJ4i2XxxRd3Sy+9tFt99dVd7dq1o1AB/fr1c506dXIrrriia9++vWvSpIlbaqmlol+FEEIIIUR1UysIif6uBMbDBRdc4Fq3bu3WWWcdC5s5c6YbNmyY++qrr9wJJ5zgzj333CobCmnBeGBm/uCDD3bnn39+FCqqwsIiyz/++MNddNFFVs/uuusut+aaa0a/CCGEEEKIBUUqt6VWrVq5M8880z6XXnqpe/bZZ82oePjhh90999xj7kpClJNZs2a5SZMmubp167oVVlghChVCCCGEEAuSKu15WHLJJW32umXLlrY6weywB9ciXIyY4Y7z7bffms/6lltuaZ+OHTvavojDDjsswx3Ju0q9+eabbtq0afb7vvvua/ffcccd9lu2+9LYsWNdu3btKp7N34Sl4ffff3f33XdfhV/9Lrvs4rp162ZxF4I0cg9++TwDly5WYvDLx6AaOnSo7WfYbLPNLF0nnnii++CDD1x8scfnEcOM2XYP13z00UcV+eIZPOv111/PuD8fyAw5e7kg/6+//jr6NZPJkye7m266yfJPnho3bmzyRj5pQNmPy5Fv/ic8DvsYHn/8cXfggQfadcjs4osvtrR6qAM77rije//9992gQYNsD0x2neJ67uP+XLLxdXHkyJEmB64bOHCg/Za2fKjb++23n7vqqqvcn3/+GYUKIYQQQiyaVHnDNAbE/vvvb0rc6NGjo9BkUExPP/1099RTT5kidsopp5iCdvTRR5uCnItll13WFMTOnTu7VVdd1VxtHnroIXfooYdGVzhTGFEAf/vtN3fFFVe4M844w40bN87CUO7zgeJ+zjnnmNK8ww47uJtvvtnSh5sMSvuPP/4YXZkfrucZ6623nu3VQDG97bbb3KmnnurWWGMN+5u0Ed/xxx/v3nrrrejO3DzzzDPu2GOPNeX1vPPOMxcejAtcxZ544omCBgRGAnJ+4YUXKmSOIYB8fvjhh+iqeXz22WcmL+LkunvvvdeU/1tvvdXSHTdqkuC5rEjdeeedZuh16dLFFP4bbrjBXXbZZRX3I5fbb7/dynTTTTe164488kj38ssvu+OOO8598cUXdl3Dhg3tOlYddt11V0sP8l1rrbXsd9LL9Z988onlJy4bbxx4fvnlF3f22We7UaNGWZrYM1FM+eCmRz2YOnWq++uvv6JQIYQQQohFlFAJzUm/fv2CUIELQsUrCskkVOKC3XffPQiV+ygksL8J4zeYO3du0KNHj6B+/frBsGHD7H8f3r9//6BevXoZ9yfFmRQPfPfdd0Hz5s0tfPbs2VFoEITGStC6desgVA6D0KiIQjMh/l69eln8gwcPrkgXjBw5Mthuu+2Ca665JggVxii0MqSRtIYKsKXFM3HixKBNmzZB165dM+7nmtDgCkJlN5gzZ46FhUpp0LJly6Bjx45BqIRbGPeHSrg9Y8qUKRYG5CU0doJQuQ5CAykKrQxxknZkPmLEiCg0t8xD5TwIDblg7NixUci8awnnGaFxGIVWhut69+5t5fPxxx9HofPC+/bta3ENHz7cwr788sugcePGQadOnTLkQhqJp2fPnlFIslxg+vTpQWjgBB06dAhmzJgRhc6TTWhIBC1atLDyB/JI+YRGSkb9KKZ8gGfnqwdCCCGEEIsKZTmqNVS6cs5O//rrry5UHl2jRo3cTjvt5GrVqmXhfIcKekkbYXFrYVXjoIMOspUQD88kLmayOQo1CWaZX3rpJZthb9q0aUW6oEGDBjaDHiq1lrdCHHLIIW7ttdeO/nNugw02MJeds846y05T8rAqsfnmm9tMfaiMRqGVYcWEFQdmwVlx8bAxndUaZsNxuckFMmc1CJnj/uPJJfO2bdua6xWuOx6uZaaeFZ18x6NyvCwrB/vss4/lzcP9rOYQV2hUWBgz/nyWX355O5nLs9tuu7lXX33V8lsIyhQ3JFzmOJXLg2xCA8aFBor7/vvvo1Bn5cKKVbx+FFs+PDt+nRBCCCHEokpZjId8TJkyxRT8TTbZxNyQygl7JjAOUA7xn49/8NfHoMml+OKGgvtOvXr1Kp0WhaKJATFhwoRKLj5JJCmW+PajVKMQo5STJpRxfPgLgeHA6VYoudngykOaUZIL5a0YmX/zzTfmGsReBy/Do446Kvo1N7j0kN4HHnjA0uXv5eP3qmDswLrrrmtuSHfffbc77bTT7NQu0oohgeKeJq24LGHQsD8hHhcfNvFnGzs8O24YekopHyGEEEKIRZWyGA8ouryrYEGw4YYbuh49etheiOxP3E8+G4wOFNv1118/CqkMs8/MlBeL9+1nn8dWW21ls9z43DNjzj6RfGDwsNqxyiqrZLzrIhvSNjfrPRtVBYUcJfqNN96wPSC8oO/dd981JT8tbKBPKgM+fo8KdeSaa66xvQ4TJ040AwAjjX0PxWwEX3nlld3111+fGBcfjJh8lFI+QgghhBCLMiUZD2zKRQFnNnxBgRLNaTm4vmR/2Hgbd22JgzsQM+G5Th+qitHgYUWETb6cbsS7FJhtZ2MuxkDcfSYJFGyMMWbk2eybDQZDKWnLhhOE7r//flt96dmzp2vRooUp3yjouWSXBBuRk8qAD+XjIf+sFHHcL25nxA1sdiYsDbicbbTRRolx8cHwykcp5SOEEEIIsShTZeOBGXJOT8KnfZtttolCK8Pbppn9x1cdl5JywluZMV44XalYUDBJO7Pu+LjHwaWFPQOcCORfjlcMuPGQ1y222CLDZQbFP9fekDgYY6w+8J6DbJixx2UJhTzXao/PG+nIzls2pBMZ4OKUvdJR6F7AwOAN0GPGjEk0duJQB1jdmD59uv3P+xtwk7rlllssfvZx5NtfAdQneOedd1KvVGRTavkIIYQQQiyqVMl44Ox+XIU42hO/+HxuIiiWe+21l7ml4ArjQfFj5jnNngIPM+5xhZEz/Fk9ePDBBzM2yXING3B5X0CuWXpm1tnki9877irx56KYcsQpim1VjAfuqV27trnCeNcivocMGWJ+/oXgXQsYEI8++qhtfvagzBOGws4m71yQtyZNmrjXXnvN8uJJkjkrBsiQ2fi4DPmbI2gLgQFHWjAKqA8+v8Beh65du1as7nz66ad2JOxzzz2XIW9WPzDYmPWPb6ROon79+m7nnXd2ffr0qWQ0cnRrr169Kr1bIptiywe5l3O1RwghhBBiYWXxKzjgPge8aI0TiZid5cQclC3+79SpkynnJ510kr0PIe7qgSKOkoifOzPg3IuLyXvvvWdvo0YpRVHlb1xWcDvC7x13E/Bxtm7d2t6bACh6KKc8m/tRDlkVQElmthxFEj99Zo35HX92lFZm5zl1KWlDM+litptZaBRONv6i7Pbt29dde+21pqRecskldjJQLlj14J0LzZo1s822HpR73l8xYMAAm5Hn5Wbdu3e3a8kLH06IYuWAvLBJFyMLY2aJJZawv5Ed/vuc+ITyikyvvvpqkzvyx3CKz5rHySdzXtCGIszL1ZA58aE49+vXz2TItS+++KK7/PLLbSUBmaKsx/MXB2UfOY4fP97eOE5eMQZYReDdD/yPfFgxwEhh8zzyRu6k85VXXnFXXnmluSLxgj2/STxJLsCmapR/DBVWvnDv4l5Oi+KdEsgNo486mV0XPcWUDwYJL/FjdYbTnHw6hBBCCCEWRVKtPKBwolzxGTx4sClRhLG5tk6dOtFVucGfnBewcaQpChsvE0OB4xuFshC4t/AyMBTA3r17m0IHKJ/+LdecmEP6UEBx+WHWnLc25/Nhx/hg8y4vYUPR5C3EzD6zkZa0ke6qgEGDKw4vMvMKPHssUNDx9//pp59yHiHr4Q3MGA+4fPGmZAwGDBmU5FatWuU0HDxJMmeVAPnFj2SFAw44oCKNbB5mlQg5sgcCZZ1Tp+IrBdkQFwYBewgwMpE78aD0Y4zhHgTsq+BNzVyHscGJS7ygDUONfLHikoZGjRpZmXPMLoYj5cYKC8YVL6ajbuWjmPLBWCDdOq5VCCGEECLUv0OlsGqO42WA2Vw2yqIM8xZgIYQQQgghRM2lpNOW0oKRwOk2+LV7cJXBPYZZ3viLzIQQQgghhBA1k2pZecANpn379rYJGLcQ3GcGDhxo/vusOuCrnuvkICGEEEIIIUTNoNrcljh2lLc+c5Y/JwjhB9+2bVt7r4DO1hdCCCGEEKLms0D3PAghhBBCCCEWHqplz4MQQgghhBBi4UfGgxBCCCGEECIVMh6EEEIIIYQQqZDxIIQQQgghhEiFjAchhBBCCCFEKmQ8CCGEEEIIIVIh40EIIYQQQgiRChkPQgghhBBCiFTIeBBCCCGEEEKkQsaDEEIIIYQQIhUyHoQQQgghhBCpkPEghBBCCCGESIWMByGEEEIIIUQqZDwIIYQQQgghUiHjQQghhBBCCJEKGQ9CCCGEEEKIVMh4EEIIIYQQQqRCxoMQQgghhBAiFTIehBBCCCGEEKmQ8SCEEEIIIYRIhYwHIYQQQgghRCpkPIhFhh9//NEdddRRbu+993affPJJFCqEEEIIIdKy0BoP06ZNc4cddpg788wz3R9//BGF/nu48cYb3R577OE+//zzKKTm8sUXX7h27dq5Lbfc0j7vvfde9EvN4e+//3YPPPCAGQ1XX32122KLLaJfhBBCCCFEWlIZDyjqd911l83Ybrzxxm777bd3HTp0cB999JELgiC6SiyK/PDDD+7ss892w4YNM2PujDPOcOuuu270a81h/PjxbuzYse7WW291u+66axQqhBBCCCGKoaDx8Nlnn7kjjzzS3XzzzW6ttdZy7du3d82bN3evvfaaKYv33HOPzeqKRZMJEya4Dz/80F1yySXu2muvdaeddppbc801o19rDltttZW7//773Z577ulq1aoVhQohhBBCiGLIazz8/PPP7oorrnC///67e+ihh9zDDz/szjnnHHP7ePXVV82IuOmmm9wrr7wS3SEWNSZNmmTf9erVs28hhBBCCPHvJa/x8Prrr7s33njDXFF22WWXjBnb5ZZbzp133nlu8803d/369TMDI4mpU6e61q1bJ+5NwJ8fv/6ePXtWuD/NmTPHDR482LVo0aLCReriiy923377rf2ejzfffNPu6d+/fxQyD+IlflZKcMGC+LXx+HDNGjBggK2moBh37Nixwpefv5PSMWvWLHffffdVuHXxzf+EF4J4iM/fe8ABB1h6kEMSrAQhD+TC9QceeKB7/PHHc16fDen392+22WbumGOOsXLOdj/zeffxIB/S5VeZ/J6TCy64wP5nIzLXsVfDw7Vx2VKHunXrVlEGEC+bUaNGWXpI1zvvvGO/T5482QxU7uUZjRs3dnfccUfO+pZNmjRgJLdp08adcsopbsaMGVGoEEIIIYTIJqfx8Oeff5rhsOmmm7qGDRtGoZngxtSoUSNT9L766qsoNJOVV17ZNWnSxL377ruVFO/Ro0e7X375xXzQMUxQJDt37myrG6uvvrrr0qWLuUy9/PLL7rjjjjPFudxcddVV5s6CUnrqqae6uXPnugsvvNBccE488URTqlEq99tvP/fCCy+4888/35RND0rspZde6u6880637777Wpq33nprd8MNN7jLLrss72Zunn3vvfdafEsuuaTFj6xuueUW99hjj0VX/QNK/uGHH26bfrmnV69eZrxhDKBQe8U+F8gPOXI/BuFFF11k6TvhhBPcwIEDo6vmXYcy/cEHH7iTTz7ZXX/99VaOGBMYesSz7LLLWrwnnXSS3YMMWJ069NBD7X+uue2220xe2223nbm9IUP2zpx++ukZMgTi5PnffPONya927doWhjHxzDPPWBkgK4ws9i2wIpZPtpA2DTyHvRv8T70XQgghhBA5CBXYRKZNmxa0bt06CJXHYObMmVFoZfr16xfUrVs3GDVqVBRSmdBwCOrXrx8MGjQoCgmC2bNnB6FSFxx99NEWFwwZMiSoV69eECrCwV9//WVh8OmnnwZNmzYNQuU6+O233yxs6tSpQcuWLYNQ4QxCBd7CSANpIU1x+J3ruJ77wF8bKtEVz4SJEydaXPzWt2/fIDQmLJzv3r17W/jQoUMzwnbffffg448/tjAgnHvJy/Dhw6PQyowbNy4IDbNKaQgV2SA0muy5oQJtYbNmzQquu+46K4/vv//ewgA5derUKWjWrFkwadKkKLQy06dPD0IFPOjQoUMwY8aMKDSweIm/RYsWweTJky0sNICCBg0aBGPGjLH/wV+XHU+u8kdGocIeDBs2rEKGMGLECKsLoaFh//uyQVbILFT4LRxCY8Hqx9ixY6OQebIlnGeExmcUmkzaNADpmDNnTvSfEEIIIYRIIufKQ/ibzdwuvfTSbrHFCu6rrvB9TwJ3kW233dZWMvzMLjO9rDzstttubqWVVrLZX2b2cQ9i9nrxxRe364DVD9xa2KQdGhJRaHkIFXS3zDLLRP85W/HYZpttbINtfHMt3/54zylTptg3Li6siuyzzz62AuDh2h122ME2DodGRRRaGTYaIwfyG0/DGmusYe5CcZZaailbKWCFgxUfD3IivcgvNMii0MpwnOrIkSNdaECZy5mHeJHBl19+6UKjxMJCg8TVqVMnI038HRov5qK2zjrrRKHJUMYvvvii23nnnd1OO+2U4e5GWtkfwclH8Vl+yp1VhXhda9u2rXvkkUfsNw/PYmUiNGby5rfYNFDPl1hiCftbCCGEEEIkU9gqKAMYBxgJuDfhww4c84qyitsTsD8AAwSljuvjoPg1aNDAFMZc7lHlBjciFPZ88NIx0sP7A0g3RpL/4MKEm9bMmTOjqyvDvRxruv7660ch+cGgw3jiZCO/B4CP33eQD1yAkB+uWPF0+vvjyjguXKT7+OOPN3co7kXJxlWJsokbdklwL65RKO8o6vG4dtxxR/f++++buxdGiodnJhmpuDGx54E0+Wewv6IQVUmDEEIIIYTIT07jAYUdhY4Z7blz50ahudlggw2iv5LBSMBYwGhgReOtt96q2IwL+Jv/9NNPNuueT2mvicoe+wPw90/6+D0A5YCVmyOOOMIMMPZqDB8+3PaSXH755dEV+WHfAvsXktLJBwMIMEyeeuop28zO/gL2CTCDz36O+EbjQrCZ+8EHH0yMCyMGAy0fGC0YMOSbfTDPP/+85ffuu++OrihMqWkQQgghhBD/kNN4YJYZZZLZcU5MSoKZcE5MWnXVVTNcYZLgWY1CAwKjAVcd3kLM5uAVVljBfucZuAwxm5/kjoLBUVPB2GFlJenDyUHlYPr06bYKgGLPhmoUegw2DIK4e1E+UPw32mijxHTyWWWVVaIr5xmDbPrG2MNIYaM17/TgZCQ2uaeBTc/M8ifFxWpAvhUMVjrYyE7e2KTNaUnUIfJbqK7FKSUNQgghhBAik5zGA/7fnIKEccARmkkwA84JQLgU1a1bNwpNBmOEU5vefvttm0nGSGA224OPPQors83ZyilGCvsjvEFTU0CJXXHFFd2YMWNSK9RxkBmGVJpjaFmZwa2LlZrll18+Cp1HPtcoz2qrrWbfuI4hz1zgysMxtrj8cB3KNeWC0cDRvJQddSIfzOZjCLKng9WkqoAbFXVhk002qeTGRhoLUY40CCGEEEKITPLueWClAAOie/fuplDGlU4UVnzRx48f7w4++OBUs988i9lvNt6ygZpZcA8bVtknMG7cODdkyJAMVymUVd6FwMbefDP5uDyh6KIgx997gN88SmS5QTlt2rSpKdQcJxpPM/Lp2rWr+/rrr6OQyrCKwH4H8hZXiDGsMJbiYKRgAGCoxFeCUPJ5eV8h6tevb8Zanz59TMZxeAbHvrLvBLcwZvo7depk6YiDCxurLMzm5wMjj03krFoRX7ws+Bu3I46BzQfxsB+EcvMbuYG/OWq1EMWmgbzFN3ALIYQQQojKLH4FB+bnAIMAJZ9Np7z0DANiwoQJ7tlnnzU/e5QvzstnA2uaE5l4HsovrjC8W4AVizjrrbeezTjffvvtZjCgzBEX/v3MJPPuBX/SEIruoEGDTKlGSWSlBIURZfGJJ56w04MwbDBEuI9VEu495JBDzFBhtp/rmjVrZqf3eFCeOUHp119/rbjWk30PeWZmnHhQ4H2ahw4dau894H+u9bP+2eCyRZo5QYmTpDByuBd3IZRk8sSeCdyJWJnB8Orbt68bMWKE++677+wFd7wXgzhR9PHvR4ZJEA+nJGHksJ8BA4TncZoR76MgDjYls6rBKVHk5+mnnzaDiGdjULBPAEORl/75k4k4seill16ysHjcrKpwKhWbySlz3M6oPxiO1Cdc1jD0csmb5xM3pzux1wF5cB/1jlUelH2MoXjZZZM2DeSPvRXUJ+pSvMyFEEIIIcQ/5DUegL0IzZs3N9cRFC+OU8V9hlUEVh74LY3hACiEKH4onO3ataukVPM7z0UhR4lmoyuz4iisKHwbbrhhdGWy8YCLDZuwmVl+7rnnzKUKg4UsskqA8l9O4wFQytl/gHy4j1lu3G14UzRGAMppLtiUzhGvuCKxeoGhxAoEL0vDT58VFG88cC15Qwa4kaGwk2dOXkLp595CyjSrHKQVw+HJJ5+0D7JiM3L79u0r8ooRwCoPqya8vZo8Ez8vjOPlcnGZ5DIeSBtH3eJmxhGxGCko8BijrGTxzTPzyZsjenm5GycjYUCwmkM6jz32WMsvsmB1jOckkTYN7LEhDb4sMdSEEEIIIURlagX5HOCFEEIIIYQQIiLdkoEQQgghhBBikUfGgxBCCCGEECIVMh6EEEIIIYQQqZDxIIQQQgghhEiFjAchhBBCCCFEKmQ8CCGEEEIIIVIh40EIIYQQQgiRAuf+H8aQZZgwHCEoAAAAAElFTkSuQmCC)"
      ],
      "metadata": {
        "id": "HPww-t-7aKb5"
      }
    },
    {
      "cell_type": "code",
      "source": [
        "raio = 60\n",
        "volume = (4/3) * m.pi * (raio ** 3)\n",
        "print(f'O volume da esfera é de {round(volume,2)}')\n"
      ],
      "metadata": {
        "id": "mzr21t8EcpoI",
        "colab": {
          "base_uri": "https://localhost:8080/"
        },
        "outputId": "01577238-b122-41f2-b40c-20cc99f181a8"
      },
      "execution_count": 120,
      "outputs": [
        {
          "output_type": "stream",
          "name": "stdout",
          "text": [
            "O volume da esfera é de 904778.68\n"
          ]
        }
      ]
    },
    {
      "cell_type": "code",
      "source": [],
      "metadata": {
        "id": "REVEiDAjEZQb"
      },
      "execution_count": null,
      "outputs": []
    }
  ]
}